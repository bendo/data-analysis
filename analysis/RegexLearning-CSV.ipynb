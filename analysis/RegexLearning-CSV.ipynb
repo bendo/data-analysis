{
 "cells": [
  {
   "cell_type": "code",
   "execution_count": 1,
   "id": "90ed316d-45a4-425c-9e10-bca3a257c924",
   "metadata": {},
   "outputs": [
    {
     "data": {
      "text/plain": [
       "\u001b[0mCabal file warning in /opt/IHaskell/ihaskell-display/ihaskell-aeson/ihaskell-aeson.cabal@46:28: Packages with 'cabal-version: 1.12' or later should specify a specific version of the Cabal spec of the form 'cabal-version: x.y'. Use 'cabal-version: 1.16'.\u001b[0m\n",
       "\u001b[0mCabal file warning in /opt/IHaskell/ihaskell-display/ihaskell-blaze/ihaskell-blaze.cabal@49:28: Packages with 'cabal-version: 1.12' or later should specify a specific version of the Cabal spec of the form 'cabal-version: x.y'. Use 'cabal-version: 1.16'.\u001b[0m\n",
       "\u001b[0mCabal file warning in /opt/IHaskell/ihaskell-display/ihaskell-charts/ihaskell-charts.cabal@46:28: Packages with 'cabal-version: 1.12' or later should specify a specific version of the Cabal spec of the form 'cabal-version: x.y'. Use 'cabal-version: 1.16'.\u001b[0m\n",
       "\u001b[0mCabal file warning in /opt/IHaskell/ihaskell-display/ihaskell-diagrams/ihaskell-diagrams.cabal@46:28: Packages with 'cabal-version: 1.12' or later should specify a specific version of the Cabal spec of the form 'cabal-version: x.y'. Use 'cabal-version: 1.16'.\u001b[0m\n",
       "\u001b[0mCabal file warning in /opt/IHaskell/ihaskell-display/ihaskell-gnuplot/ihaskell-gnuplot.cabal@47:28: Packages with 'cabal-version: 1.12' or later should specify a specific version of the Cabal spec of the form 'cabal-version: x.y'. Use 'cabal-version: 1.16'.\u001b[0m\n",
       "\u001b[0mCabal file warning in /opt/IHaskell/ihaskell-display/ihaskell-graphviz/ihaskell-graphviz.cabal@48:28: Packages with 'cabal-version: 1.12' or later should specify a specific version of the Cabal spec of the form 'cabal-version: x.y'. Use 'cabal-version: 1.16'.\u001b[0m\n",
       "\u001b[0mCabal file warning in /opt/IHaskell/ihaskell-display/ihaskell-hatex/ihaskell-hatex.cabal@12:28: Packages with 'cabal-version: 1.12' or later should specify a specific version of the Cabal spec of the form 'cabal-version: x.y'. Use 'cabal-version: 1.16'.\u001b[0m\n",
       "\u001b[0mCabal file warning in /opt/IHaskell/ihaskell-display/ihaskell-juicypixels/ihaskell-juicypixels.cabal@52:28: Packages with 'cabal-version: 1.12' or later should specify a specific version of the Cabal spec of the form 'cabal-version: x.y'. Use 'cabal-version: 1.16'.\u001b[0m\n",
       "\u001b[0mCabal file warning in /opt/IHaskell/ihaskell-display/ihaskell-magic/ihaskell-magic.cabal@49:28: Packages with 'cabal-version: 1.12' or later should specify a specific version of the Cabal spec of the form 'cabal-version: x.y'. Use 'cabal-version: 1.16'.\u001b[0m\n",
       "\u001b[0mCabal file warning in /opt/IHaskell/ihaskell-display/ihaskell-plot/ihaskell-plot.cabal@47:28: Packages with 'cabal-version: 1.12' or later should specify a specific version of the Cabal spec of the form 'cabal-version: x.y'. Use 'cabal-version: 1.16'.\u001b[0m"
      ]
     },
     "metadata": {},
     "output_type": "display_data"
    },
    {
     "data": {
      "text/plain": [
       "\u001b[0mCabal file warning in /opt/IHaskell/ihaskell-display/ihaskell-aeson/ihaskell-aeson.cabal@46:28: Packages with 'cabal-version: 1.12' or later should specify a specific version of the Cabal spec of the form 'cabal-version: x.y'. Use 'cabal-version: 1.16'.\u001b[0m\n",
       "\u001b[0mCabal file warning in /opt/IHaskell/ihaskell-display/ihaskell-blaze/ihaskell-blaze.cabal@49:28: Packages with 'cabal-version: 1.12' or later should specify a specific version of the Cabal spec of the form 'cabal-version: x.y'. Use 'cabal-version: 1.16'.\u001b[0m\n",
       "\u001b[0mCabal file warning in /opt/IHaskell/ihaskell-display/ihaskell-charts/ihaskell-charts.cabal@46:28: Packages with 'cabal-version: 1.12' or later should specify a specific version of the Cabal spec of the form 'cabal-version: x.y'. Use 'cabal-version: 1.16'.\u001b[0m\n",
       "\u001b[0mCabal file warning in /opt/IHaskell/ihaskell-display/ihaskell-diagrams/ihaskell-diagrams.cabal@46:28: Packages with 'cabal-version: 1.12' or later should specify a specific version of the Cabal spec of the form 'cabal-version: x.y'. Use 'cabal-version: 1.16'.\u001b[0m\n",
       "\u001b[0mCabal file warning in /opt/IHaskell/ihaskell-display/ihaskell-gnuplot/ihaskell-gnuplot.cabal@47:28: Packages with 'cabal-version: 1.12' or later should specify a specific version of the Cabal spec of the form 'cabal-version: x.y'. Use 'cabal-version: 1.16'.\u001b[0m\n",
       "\u001b[0mCabal file warning in /opt/IHaskell/ihaskell-display/ihaskell-graphviz/ihaskell-graphviz.cabal@48:28: Packages with 'cabal-version: 1.12' or later should specify a specific version of the Cabal spec of the form 'cabal-version: x.y'. Use 'cabal-version: 1.16'.\u001b[0m\n",
       "\u001b[0mCabal file warning in /opt/IHaskell/ihaskell-display/ihaskell-hatex/ihaskell-hatex.cabal@12:28: Packages with 'cabal-version: 1.12' or later should specify a specific version of the Cabal spec of the form 'cabal-version: x.y'. Use 'cabal-version: 1.16'.\u001b[0m\n",
       "\u001b[0mCabal file warning in /opt/IHaskell/ihaskell-display/ihaskell-juicypixels/ihaskell-juicypixels.cabal@52:28: Packages with 'cabal-version: 1.12' or later should specify a specific version of the Cabal spec of the form 'cabal-version: x.y'. Use 'cabal-version: 1.16'.\u001b[0m\n",
       "\u001b[0mCabal file warning in /opt/IHaskell/ihaskell-display/ihaskell-magic/ihaskell-magic.cabal@49:28: Packages with 'cabal-version: 1.12' or later should specify a specific version of the Cabal spec of the form 'cabal-version: x.y'. Use 'cabal-version: 1.16'.\u001b[0m\n",
       "\u001b[0mCabal file warning in /opt/IHaskell/ihaskell-display/ihaskell-plot/ihaskell-plot.cabal@47:28: Packages with 'cabal-version: 1.12' or later should specify a specific version of the Cabal spec of the form 'cabal-version: x.y'. Use 'cabal-version: 1.16'.\u001b[0m"
      ]
     },
     "metadata": {},
     "output_type": "display_data"
    }
   ],
   "source": [
    ":! stack build csv\n",
    ":! stack build regex-posix"
   ]
  },
  {
   "cell_type": "code",
   "execution_count": 2,
   "id": "6c535129-8f47-4a75-bdca-85dd4dde2eae",
   "metadata": {},
   "outputs": [],
   "source": [
    ":load DescriptiveStats\n",
    ":load MyCSV"
   ]
  },
  {
   "cell_type": "code",
   "execution_count": 3,
   "id": "37757187-130f-47c1-b8bf-4d894d99eaca",
   "metadata": {},
   "outputs": [],
   "source": [
    "import Text.CSV\n",
    "import Data.Maybe\n",
    "import Text.Regex.Posix\n",
    "import DescriptiveStats\n",
    "import MyCSV"
   ]
  },
  {
   "cell_type": "code",
   "execution_count": 4,
   "id": "e00dd0f3-7e57-47fa-bc2e-e1881ffce77a",
   "metadata": {},
   "outputs": [],
   "source": [
    "baseball <- parseCSVFromFile \"../data/gl2023.txt\""
   ]
  },
  {
   "cell_type": "code",
   "execution_count": 5,
   "id": "e045c4eb-2239-47af-ae32-cc19976c95ab",
   "metadata": {},
   "outputs": [],
   "source": [
    "gameDates = getIndex baseball 0"
   ]
  },
  {
   "cell_type": "code",
   "execution_count": 6,
   "id": "46b66f87-8d1b-4b51-a51f-b76ae9e2a985",
   "metadata": {},
   "outputs": [
    {
     "data": {
      "text/plain": [
       "\"20230330\""
      ]
     },
     "metadata": {},
     "output_type": "display_data"
    }
   ],
   "source": [
    "head gameDates"
   ]
  },
  {
   "cell_type": "code",
   "execution_count": 10,
   "id": "fc49624f-31a4-4c78-a56d-bc8306cef928",
   "metadata": {},
   "outputs": [],
   "source": [
    "marchDates = map (=~ \"....04..\") gameDates :: [Bool]"
   ]
  },
  {
   "cell_type": "code",
   "execution_count": 8,
   "id": "47fe4418-d340-4380-bd43-c53569703569",
   "metadata": {},
   "outputs": [],
   "source": [
    "awayRuns = readIndex baseball 9 :: [Integer]"
   ]
  },
  {
   "cell_type": "code",
   "execution_count": 11,
   "id": "9df5210c-c6da-4fd4-88c7-cff3c2cae9a3",
   "metadata": {},
   "outputs": [
    {
     "data": {
      "text/plain": [
       "2430"
      ]
     },
     "metadata": {},
     "output_type": "display_data"
    }
   ],
   "source": [
    "length marchDates"
   ]
  },
  {
   "cell_type": "code",
   "execution_count": 12,
   "id": "4b57c420-4b43-42a4-b751-de7b35004eca",
   "metadata": {},
   "outputs": [
    {
     "data": {
      "text/plain": [
       "2430"
      ]
     },
     "metadata": {},
     "output_type": "display_data"
    }
   ],
   "source": [
    "length awayRuns"
   ]
  },
  {
   "cell_type": "code",
   "execution_count": 13,
   "id": "bf8d86e7-7c02-4636-a4c4-7a6f4db46b94",
   "metadata": {},
   "outputs": [
    {
     "data": {
      "text/plain": [
       "[(False,0),(False,5),(False,2),(False,5),(False,7),(False,10),(False,7),(False,10),(False,3),(False,2),(False,0),(False,1),(False,0),(False,0),(False,7),(False,2),(False,1),(False,4),(False,3),(False,9),(True,3),(True,2),(True,1),(True,6),(True,4),(True,1),(True,7),(True,8),(True,4),(True,2),(True,7),(True,13),(True,2),(True,2),(True,3),(True,9),(True,1),(True,2),(True,5),(True,1),(True,4),(True,1),(True,5),(True,6),(True,7),(True,0),(True,6),(True,6),(True,1),(True,1),(True,6),(True,4),(True,11),(True,0),(True,4),(True,8),(True,6),(True,7),(True,12),(True,7),(True,5),(True,1),(True,12),(True,7),(True,2),(True,12),(True,2),(True,0),(True,0),(True,8),(True,4),(True,10),(True,4),(True,6),(True,4),(True,4),(True,3),(True,2),(True,7),(True,2),(True,6),(True,5),(True,7),(True,4),(True,3),(True,2),(True,3),(True,2),(True,6),(True,4),(True,2),(True,5),(True,6),(True,0),(True,16),(True,6),(True,6),(True,3),(True,5),(True,0),(True,10),(True,0),(True,3),(True,2),(True,9),(True,3),(True,4),(True,6),(True,5),(True,2),(True,5),(True,8),(True,4),(True,3),(True,7),(True,6),(True,2),(True,2),(True,11),(True,6),(True,5),(True,4),(True,3),(True,14),(True,6),(True,0),(True,6),(True,10),(True,8),(True,6),(True,1),(True,7),(True,6),(True,0),(True,1),(True,12),(True,5),(True,6),(True,4),(True,5),(True,0),(True,0),(True,4),(True,2),(True,4),(True,0),(True,3),(True,8),(True,9),(True,6),(True,1),(True,2),(True,4),(True,0),(True,2),(True,7),(True,6),(True,9),(True,9),(True,4),(True,8),(True,4),(True,0),(True,0),(True,8),(True,11),(True,3),(True,2),(True,5),(True,3),(True,3),(True,4),(True,5),(True,7),(True,2),(True,3),(True,7),(True,10),(True,2),(True,8),(True,4),(True,1),(True,7),(True,10),(True,3),(True,2),(True,4),(True,5),(True,7),(True,11),(True,3),(True,3),(True,8),(True,8),(True,1),(True,11),(True,0),(True,4),(True,3),(True,6),(True,5),(True,6),(True,10),(True,4),(True,17),(True,3),(True,3),(True,0),(True,1),(True,2),(True,3),(True,6),(True,6),(True,7),(True,6),(True,6),(True,2),(True,9),(True,1),(True,3),(True,2),(True,2),(True,14),(True,3),(True,5),(True,1),(True,4),(True,6),(True,1),(True,8),(True,9),(True,5),(True,0),(True,4),(True,0),(True,8),(True,1),(True,14),(True,8),(True,3),(True,2),(True,6),(True,5),(True,2),(True,4),(True,10),(True,7),(True,10),(True,5),(True,0),(True,2),(True,8),(True,8),(True,1),(True,4),(True,7),(True,0),(True,3),(True,0),(True,4),(True,12),(True,5),(True,4),(True,6),(True,8),(True,14),(True,5),(True,5),(True,0),(True,5),(True,4),(True,10),(True,5),(True,3),(True,1),(True,12),(True,2),(True,12),(True,5),(True,7),(True,6),(True,5),(True,3),(True,9),(True,5),(True,3),(True,0),(True,6),(True,0),(True,5),(True,3),(True,2),(True,7),(True,0),(True,1),(True,3),(True,6),(True,2),(True,7),(True,5),(True,5),(True,6),(True,9),(True,4),(True,3),(True,1),(True,4),(True,11),(True,1),(True,6),(True,3),(True,10),(True,2),(True,4),(True,3),(True,3),(True,7),(True,5),(True,7),(True,12),(True,3),(True,0),(True,4),(True,3),(True,1),(True,4),(True,1),(True,5),(True,7),(True,1),(True,2),(True,4),(True,0),(True,6),(True,4),(True,0),(True,11),(True,4),(True,6),(True,1),(True,3),(True,2),(True,5),(True,4),(True,0),(True,6),(True,4),(True,5),(True,5),(True,8),(True,4),(True,3),(True,8),(True,5),(True,2),(True,5),(True,0),(True,0),(True,4),(True,5),(True,3),(True,2),(True,4),(True,5),(True,1),(True,3),(True,3),(True,2),(True,1),(True,12),(True,1),(True,0),(True,5),(True,2),(True,8),(True,0),(True,2),(True,6),(True,7),(True,14),(True,7),(True,1),(True,4),(True,9),(True,3),(True,2),(True,1),(True,4),(True,5),(True,3),(True,3),(True,6),(True,11),(True,2),(True,2),(True,11),(True,0),(True,6),(True,5),(True,11),(True,6),(True,16),(True,7),(True,12),(True,4),(True,6),(True,6),(True,3),(True,3),(True,0),(True,0),(True,4),(True,3),(True,3),(True,3),(True,4),(True,2),(True,1),(True,9),(True,5),(True,3),(True,4),(True,4),(True,2),(True,10),(False,4),(False,9),(False,3),(False,3),(False,5),(False,5),(False,3),(False,3),(False,2),(False,1),(False,6),(False,2),(False,5),(False,1),(False,6),(False,2),(False,2),(False,11),(False,2),(False,2),(False,1),(False,4),(False,1),(False,6),(False,14),(False,1),(False,6),(False,1),(False,3),(False,4),(False,5),(False,1),(False,4),(False,0),(False,3),(False,7),(False,1),(False,12),(False,6),(False,6),(False,11),(False,3),(False,5),(False,7),(False,0),(False,13),(False,5),(False,2),(False,1),(False,9),(False,1),(False,5),(False,0),(False,5),(False,4),(False,2),(False,4),(False,5),(False,4),(False,2),(False,12),(False,6),(False,4),(False,7),(False,4),(False,2),(False,3),(False,5),(False,7),(False,8),(False,2),(False,1),(False,6),(False,10),(False,3),(False,5),(False,5),(False,3),(False,9),(False,2),(False,5),(False,17),(False,13),(False,1),(False,10),(False,5),(False,7),(False,6),(False,16),(False,0),(False,1),(False,1),(False,7),(False,2),(False,3),(False,3),(False,0),(False,5),(False,4),(False,3),(False,6),(False,5),(False,2),(False,2),(False,6),(False,3),(False,6),(False,6),(False,6),(False,4),(False,10),(False,1),(False,3),(False,2),(False,0),(False,4),(False,6),(False,5),(False,0),(False,5),(False,5),(False,4),(False,2),(False,8),(False,1),(False,4),(False,11),(False,5),(False,1),(False,5),(False,1),(False,3),(False,3),(False,4),(False,6),(False,0),(False,3),(False,3),(False,8),(False,4),(False,5),(False,6),(False,2),(False,7),(False,1),(False,3),(False,3),(False,8),(False,5),(False,5),(False,9),(False,6),(False,5),(False,7),(False,0),(False,2),(False,7),(False,2),(False,6),(False,3),(False,2),(False,0),(False,4),(False,1),(False,6),(False,5),(False,1),(False,8),(False,5),(False,2),(False,1),(False,0),(False,0),(False,1),(False,6),(False,8),(False,4),(False,9),(False,4),(False,3),(False,3),(False,3),(False,8),(False,11),(False,5),(False,8),(False,8),(False,0),(False,3),(False,1),(False,3),(False,9),(False,10),(False,4),(False,5),(False,12),(False,7),(False,3),(False,5),(False,4),(False,8),(False,5),(False,3),(False,3),(False,3),(False,4),(False,3),(False,0),(False,3),(False,8),(False,4),(False,6),(False,6),(False,3),(False,3),(False,7),(False,4),(False,4),(False,0),(False,1),(False,3),(False,2),(False,8),(False,6),(False,5),(False,6),(False,0),(False,3),(False,2),(False,8),(False,6),(False,3),(False,4),(False,2),(False,6),(False,9),(False,10),(False,3),(False,6),(False,3),(False,5),(False,8),(False,4),(False,0),(False,1),(False,0),(False,2),(False,6),(False,7),(False,7),(False,3),(False,4),(False,4),(False,1),(False,5),(False,2),(False,6),(False,1),(False,2),(False,4),(False,5),(False,6),(False,2),(False,4),(False,4),(False,1),(False,1),(False,8),(False,0),(False,5),(False,5),(False,4),(False,2),(False,2),(False,0),(False,6),(False,3),(False,8),(False,8),(False,5),(False,3),(False,12),(False,6),(False,4),(False,1),(False,0),(False,8),(False,4),(False,2),(False,4),(False,8),(False,2),(False,8),(False,4),(False,0),(False,4),(False,6),(False,7),(False,0),(False,4),(False,1),(False,4),(False,5),(False,2),(False,20),(False,3),(False,2),(False,3),(False,10),(False,0),(False,5),(False,3),(False,3),(False,3),(False,6),(False,6),(False,1),(False,9),(False,1),(False,3),(False,5),(False,10),(False,2),(False,6),(False,5),(False,8),(False,2),(False,3),(False,2),(False,3),(False,7),(False,6),(False,9),(False,5),(False,15),(False,6),(False,12),(False,3),(False,12),(False,12),(False,3),(False,5),(False,5),(False,11),(False,3),(False,2),(False,2),(False,8),(False,7),(False,3),(False,8),(False,5),(False,2),(False,3),(False,4),(False,7),(False,2),(False,6),(False,0),(False,6),(False,2),(False,4),(False,8),(False,10),(False,5),(False,2),(False,2),(False,3),(False,5),(False,2),(False,3),(False,7),(False,10),(False,3),(False,10),(False,5),(False,0),(False,1),(False,4),(False,7),(False,5),(False,6),(False,5),(False,7),(False,2),(False,10),(False,1),(False,1),(False,3),(False,9),(False,0),(False,2),(False,1),(False,5),(False,9),(False,3),(False,10),(False,1),(False,1),(False,10),(False,2),(False,0),(False,4),(False,10),(False,1),(False,1),(False,9),(False,12),(False,5),(False,12),(False,2),(False,8),(False,4),(False,0),(False,4),(False,4),(False,10),(False,2),(False,2),(False,2),(False,6),(False,1),(False,2),(False,5),(False,4),(False,0),(False,3),(False,5),(False,2),(False,3),(False,7),(False,0),(False,2),(False,7),(False,0),(False,0),(False,5),(False,10),(False,6),(False,1),(False,2),(False,3),(False,0),(False,0),(False,4),(False,5),(False,4),(False,1),(False,6),(False,6),(False,4),(False,6),(False,8),(False,5),(False,4),(False,5),(False,6),(False,1),(False,7),(False,8),(False,11),(False,6),(False,2),(False,2),(False,0),(False,2),(False,3),(False,0),(False,6),(False,3),(False,4),(False,0),(False,4),(False,3),(False,11),(False,4),(False,8),(False,10),(False,1),(False,3),(False,0),(False,11),(False,4),(False,10),(False,4),(False,5),(False,3),(False,0),(False,4),(False,1),(False,5),(False,6),(False,5),(False,1),(False,2),(False,9),(False,3),(False,6),(False,2),(False,2),(False,1),(False,1),(False,2),(False,10),(False,6),(False,6),(False,6),(False,2),(False,1),(False,3),(False,6),(False,0),(False,2),(False,2),(False,2),(False,9),(False,5),(False,4),(False,7),(False,3),(False,4),(False,4),(False,2),(False,1),(False,9),(False,11),(False,3),(False,3),(False,3),(False,4),(False,3),(False,2),(False,9),(False,5),(False,4),(False,8),(False,6),(False,1),(False,5),(False,6),(False,5),(False,1),(False,8),(False,9),(False,6),(False,4),(False,8),(False,3),(False,1),(False,3),(False,4),(False,4),(False,3),(False,6),(False,0),(False,7),(False,3),(False,3),(False,6),(False,8),(False,4),(False,4),(False,5),(False,5),(False,3),(False,1),(False,9),(False,15),(False,3),(False,1),(False,7),(False,3),(False,11),(False,6),(False,7),(False,1),(False,5),(False,5),(False,1),(False,3),(False,7),(False,4),(False,6),(False,8),(False,3),(False,0),(False,8),(False,3),(False,3),(False,10),(False,6),(False,4),(False,7),(False,2),(False,6),(False,4),(False,3),(False,5),(False,3),(False,2),(False,4),(False,8),(False,2),(False,4),(False,8),(False,4),(False,5),(False,1),(False,1),(False,3),(False,7),(False,4),(False,1),(False,6),(False,6),(False,5),(False,2),(False,3),(False,7),(False,6),(False,2),(False,2),(False,3),(False,2),(False,2),(False,15),(False,0),(False,5),(False,0),(False,5),(False,10),(False,9),(False,0),(False,3),(False,4),(False,2),(False,12),(False,6),(False,6),(False,7),(False,2),(False,8),(False,4),(False,4),(False,2),(False,1),(False,9),(False,5),(False,6),(False,3),(False,1),(False,7),(False,4),(False,0),(False,9),(False,8),(False,4),(False,8),(False,5),(False,4),(False,11),(False,9),(False,6),(False,2),(False,5),(False,4),(False,4),(False,3),(False,9),(False,2),(False,6),(False,2),(False,1),(False,2),(False,10),(False,1),(False,8),(False,3),(False,6),(False,5),(False,8),(False,2),(False,0),(False,2),(False,6),(False,6),(False,4),(False,8),(False,4),(False,2),(False,2),(False,4),(False,5),(False,10),(False,5),(False,1),(False,0),(False,10),(False,6),(False,10),(False,4),(False,2),(False,3),(False,1),(False,3),(False,5),(False,13),(False,3),(False,7),(False,4),(False,4),(False,3),(False,5),(False,7),(False,25),(False,7),(False,3),(False,4),(False,2),(False,6),(False,9),(False,4),(False,4),(False,2),(False,2),(False,0),(False,9),(False,3),(False,7),(False,3),(False,6),(False,0),(False,6),(False,8),(False,5),(False,5),(False,2),(False,1),(False,5),(False,6),(False,3),(False,1),(False,1),(False,1),(False,2),(False,1),(False,3),(False,4),(False,7),(False,4),(False,2),(False,5),(False,5),(False,2),(False,4),(False,2),(False,2),(False,3),(False,10),(False,2),(False,1),(False,7),(False,3),(False,3),(False,3),(False,0),(False,8),(False,8),(False,5),(False,1),(False,10),(False,11),(False,11),(False,6),(False,14),(False,11),(False,4),(False,2),(False,1),(False,6),(False,3),(False,14),(False,3),(False,4),(False,14),(False,9),(False,2),(False,3),(False,10),(False,8),(False,1),(False,4),(False,1),(False,5),(False,5),(False,5),(False,2),(False,7),(False,6),(False,8),(False,9),(False,4),(False,15),(False,5),(False,5),(False,0),(False,6),(False,12),(False,4),(False,1),(False,4),(False,11),(False,4),(False,6),(False,3),(False,1),(False,4),(False,6),(False,3),(False,2),(False,7),(False,3),(False,8),(False,3),(False,14),(False,4),(False,5),(False,6),(False,1),(False,2),(False,1),(False,1),(False,8),(False,6),(False,5),(False,5),(False,2),(False,4),(False,6),(False,3),(False,6),(False,3),(False,4),(False,4),(False,3),(False,12),(False,8),(False,9),(False,2),(False,7),(False,5),(False,6),(False,8),(False,6),(False,4),(False,5),(False,1),(False,1),(False,3),(False,4),(False,3),(False,2),(False,4),(False,9),(False,4),(False,3),(False,0),(False,9),(False,2),(False,8),(False,12),(False,4),(False,0),(False,6),(False,8),(False,9),(False,2),(False,3),(False,5),(False,5),(False,6),(False,6),(False,5),(False,1),(False,0),(False,5),(False,14),(False,3),(False,3),(False,4),(False,4),(False,3),(False,7),(False,5),(False,7),(False,3),(False,7),(False,0),(False,12),(False,10),(False,3),(False,3),(False,2),(False,2),(False,5),(False,3),(False,8),(False,1),(False,3),(False,3),(False,3),(False,3),(False,6),(False,0),(False,2),(False,6),(False,3),(False,6),(False,4),(False,3),(False,0),(False,2),(False,0),(False,2),(False,3),(False,4),(False,4),(False,4),(False,3),(False,15),(False,7),(False,4),(False,0),(False,8),(False,1),(False,2),(False,6),(False,8),(False,6),(False,7),(False,7),(False,2),(False,5),(False,5),(False,4),(False,2),(False,6),(False,4),(False,3),(False,6),(False,5),(False,4),(False,4),(False,3),(False,6),(False,12),(False,5),(False,6),(False,4),(False,10),(False,6),(False,0),(False,2),(False,8),(False,11),(False,4),(False,7),(False,1),(False,6),(False,8),(False,4),(False,9),(False,4),(False,4),(False,5),(False,0),(False,5),(False,5),(False,7),(False,4),(False,11),(False,4),(False,3),(False,6),(False,3),(False,7),(False,6),(False,2),(False,16),(False,3),(False,11),(False,3),(False,10),(False,3),(False,10),(False,2),(False,1),(False,10),(False,10),(False,0),(False,10),(False,3),(False,9),(False,5),(False,3),(False,2),(False,4),(False,1),(False,5),(False,5),(False,4),(False,3),(False,5),(False,3),(False,5),(False,6),(False,1),(False,2),(False,5),(False,7),(False,1),(False,6),(False,4),(False,3),(False,3),(False,0),(False,4),(False,0),(False,3),(False,6),(False,6),(False,6),(False,3),(False,5),(False,5),(False,5),(False,5),(False,4),(False,4),(False,6),(False,2),(False,0),(False,11),(False,6),(False,2),(False,4),(False,3),(False,1),(False,3),(False,6),(False,0),(False,14),(False,2),(False,2),(False,1),(False,8),(False,6),(False,16),(False,2),(False,3),(False,2),(False,4),(False,1),(False,5),(False,1),(False,8),(False,1),(False,4),(False,5),(False,3),(False,4),(False,5),(False,4),(False,10),(False,6),(False,2),(False,3),(False,8),(False,10),(False,5),(False,1),(False,9),(False,3),(False,1),(False,7),(False,4),(False,3),(False,1),(False,1),(False,5),(False,1),(False,7),(False,1),(False,7),(False,3),(False,9),(False,9),(False,1),(False,11),(False,8),(False,0),(False,4),(False,3),(False,3),(False,4),(False,3),(False,10),(False,3),(False,13),(False,8),(False,1),(False,7),(False,1),(False,10),(False,6),(False,6),(False,11),(False,5),(False,7),(False,8),(False,6),(False,5),(False,1),(False,2),(False,1),(False,3),(False,3),(False,0),(False,0),(False,4),(False,5),(False,1),(False,3),(False,5),(False,11),(False,2),(False,5),(False,11),(False,6),(False,0),(False,2),(False,5),(False,8),(False,2),(False,4),(False,7),(False,1),(False,4),(False,6),(False,0),(False,9),(False,6),(False,2),(False,4),(False,3),(False,3),(False,0),(False,3),(False,5),(False,8),(False,1),(False,3),(False,4),(False,6),(False,3),(False,4),(False,4),(False,3),(False,3),(False,5),(False,2),(False,4),(False,1),(False,9),(False,8),(False,3),(False,3),(False,1),(False,3),(False,3),(False,6),(False,0),(False,6),(False,5),(False,6),(False,0),(False,13),(False,5),(False,6),(False,11),(False,1),(False,8),(False,6),(False,2),(False,3),(False,2),(False,2),(False,0),(False,2),(False,3),(False,1),(False,1),(False,3),(False,2),(False,4),(False,1),(False,0),(False,5),(False,5),(False,2),(False,3),(False,3),(False,6),(False,8),(False,6),(False,8),(False,7),(False,10),(False,9),(False,9),(False,3),(False,7),(False,2),(False,8),(False,2),(False,7),(False,2),(False,6),(False,7),(False,2),(False,6),(False,3),(False,2),(False,3),(False,3),(False,5),(False,7),(False,2),(False,1),(False,1),(False,1),(False,8),(False,4),(False,6),(False,4),(False,4),(False,8),(False,1),(False,3),(False,0),(False,13),(False,5),(False,10),(False,3),(False,9),(False,6),(False,0),(False,2),(False,1),(False,2),(False,6),(False,13),(False,8),(False,2),(False,1),(False,3),(False,9),(False,5),(False,5),(False,3),(False,7),(False,3),(False,4),(False,5),(False,8),(False,5),(False,7),(False,9),(False,7),(False,0),(False,0),(False,6),(False,0),(False,2),(False,2),(False,5),(False,6),(False,3),(False,0),(False,6),(False,1),(False,8),(False,3),(False,2),(False,1),(False,5),(False,0),(False,1),(False,6),(False,1),(False,2),(False,5),(False,4),(False,0),(False,3),(False,0),(False,5),(False,10),(False,1),(False,9),(False,7),(False,2),(False,9),(False,2),(False,2),(False,2),(False,7),(False,3),(False,8),(False,2),(False,8),(False,6),(False,0),(False,1),(False,1),(False,21),(False,6),(False,8),(False,9),(False,2),(False,6),(False,3),(False,3),(False,5),(False,1),(False,5),(False,5),(False,4),(False,3),(False,7),(False,6),(False,3),(False,2),(False,6),(False,2),(False,7),(False,3),(False,7),(False,2),(False,5),(False,9),(False,4),(False,3),(False,4),(False,1),(False,2),(False,4),(False,10),(False,5),(False,6),(False,0),(False,0),(False,5),(False,3),(False,8),(False,2),(False,6),(False,7),(False,3),(False,0),(False,2),(False,5),(False,10),(False,3),(False,3),(False,1),(False,0),(False,3),(False,2),(False,9),(False,1),(False,12),(False,3),(False,2),(False,6),(False,8),(False,2),(False,6),(False,8),(False,2),(False,9),(False,0),(False,3),(False,4),(False,7),(False,6),(False,0),(False,4),(False,0),(False,1),(False,11),(False,0),(False,7),(False,7),(False,9),(False,4),(False,1),(False,2),(False,1),(False,8),(False,9),(False,9),(False,5),(False,4),(False,4),(False,5),(False,1),(False,1),(False,6),(False,8),(False,13),(False,12),(False,6),(False,18),(False,4),(False,10),(False,7),(False,8),(False,7),(False,6),(False,4),(False,3),(False,10),(False,10),(False,3),(False,3),(False,4),(False,7),(False,0),(False,6),(False,12),(False,6),(False,3),(False,10),(False,4),(False,1),(False,2),(False,14),(False,7),(False,4),(False,4),(False,3),(False,2),(False,3),(False,3),(False,3),(False,3),(False,4),(False,6),(False,6),(False,3),(False,6),(False,3),(False,2),(False,4),(False,4),(False,0),(False,7),(False,8),(False,6),(False,0),(False,9),(False,7),(False,0),(False,4),(False,6),(False,6),(False,7),(False,1),(False,4),(False,5),(False,2),(False,5),(False,3),(False,8),(False,9),(False,17),(False,5),(False,6),(False,3),(False,8),(False,7),(False,3),(False,3),(False,2),(False,1),(False,5),(False,4),(False,7),(False,12),(False,1),(False,2),(False,5),(False,6),(False,5),(False,8),(False,3),(False,4),(False,5),(False,1),(False,10),(False,7),(False,4),(False,5),(False,2),(False,9),(False,6),(False,2),(False,0),(False,3),(False,2),(False,1),(False,6),(False,2),(False,0),(False,10),(False,5),(False,4),(False,7),(False,1),(False,17),(False,6),(False,2),(False,4),(False,10),(False,6),(False,14),(False,4),(False,4),(False,4),(False,1),(False,4),(False,0),(False,13),(False,4),(False,5),(False,6),(False,0),(False,3),(False,0),(False,3),(False,1),(False,11),(False,2),(False,7),(False,1),(False,5),(False,3),(False,6),(False,4),(False,6),(False,4),(False,3),(False,5),(False,2),(False,7),(False,0),(False,3),(False,5),(False,10),(False,4),(False,4),(False,10),(False,7),(False,6),(False,4),(False,5),(False,4),(False,0),(False,8),(False,7),(False,6),(False,3),(False,2),(False,6),(False,2),(False,13),(False,6),(False,5),(False,1),(False,3),(False,4),(False,8),(False,4),(False,2),(False,6),(False,2),(False,2),(False,5),(False,7),(False,1),(False,7),(False,4),(False,5),(False,8),(False,1),(False,7),(False,11),(False,10),(False,6),(False,5),(False,9),(False,1),(False,9),(False,8),(False,15),(False,7),(False,1),(False,4),(False,3),(False,0),(False,4),(False,6),(False,3),(False,6),(False,6),(False,7),(False,6),(False,5),(False,2),(False,0),(False,3),(False,2),(False,9),(False,6),(False,20),(False,1),(False,6),(False,7),(False,13),(False,3),(False,10),(False,8),(False,6),(False,3),(False,7),(False,0),(False,11),(False,5),(False,8),(False,6),(False,1),(False,7),(False,6),(False,14),(False,5),(False,11),(False,2),(False,8),(False,4),(False,4),(False,5),(False,2),(False,10),(False,1),(False,6),(False,3),(False,2),(False,1),(False,12),(False,5),(False,6),(False,10),(False,2),(False,10),(False,1),(False,2),(False,1),(False,9),(False,3),(False,8),(False,8),(False,6),(False,11),(False,6),(False,11),(False,2),(False,8),(False,4),(False,6),(False,4),(False,8),(False,3),(False,4),(False,4),(False,1),(False,6),(False,2),(False,13),(False,1),(False,5),(False,4),(False,9),(False,5),(False,2),(False,1),(False,2),(False,2),(False,1),(False,5),(False,3),(False,7),(False,1),(False,3),(False,2),(False,2),(False,2),(False,3),(False,3),(False,4),(False,2),(False,5),(False,11),(False,0),(False,4),(False,10),(False,5),(False,6),(False,4),(False,5),(False,4),(False,7),(False,8),(False,10),(False,4),(False,2),(False,1),(False,4),(False,7),(False,1),(False,3),(False,5),(False,3),(False,4),(False,2),(False,11),(False,6),(False,6),(False,2),(False,0),(False,6),(False,3),(False,6),(False,2),(False,1),(False,4),(False,6),(False,5),(False,1),(False,7),(False,4),(False,2),(False,5),(False,2),(False,10),(False,2),(False,1),(False,0),(False,4),(False,0),(False,8),(False,10),(False,2),(False,9),(False,4),(False,2),(False,6),(False,3),(False,5),(False,7),(False,5),(False,11),(False,7),(False,10),(False,3),(False,2),(False,8),(False,6),(False,0),(False,6),(False,5),(False,2),(False,5),(False,5),(False,3),(False,6),(False,6),(False,5),(False,0),(False,6),(False,1),(False,8),(False,5),(False,6),(False,3),(False,2),(False,11),(False,2),(False,2),(False,4),(False,2),(False,5),(False,5),(False,4),(False,4),(False,2),(False,7),(False,10),(False,6),(False,2),(False,7),(False,3),(False,3),(False,2),(False,9),(False,0),(False,6),(False,8),(False,4),(False,5),(False,4),(False,4),(False,3),(False,1),(False,7),(False,2),(False,3),(False,0),(False,7),(False,3),(False,9),(False,6),(False,7),(False,7),(False,2),(False,4),(False,1),(False,6),(False,13),(False,5),(False,4),(False,8),(False,2),(False,8),(False,3),(False,1),(False,2),(False,6),(False,6),(False,8),(False,5),(False,8),(False,2),(False,4),(False,6),(False,10),(False,2),(False,3),(False,7),(False,4),(False,0),(False,7),(False,5),(False,16),(False,4),(False,2),(False,9),(False,2),(False,8),(False,7),(False,6),(False,1),(False,2),(False,6),(False,5),(False,3),(False,13),(False,0),(False,4),(False,5),(False,5),(False,1),(False,2),(False,3),(False,1),(False,1),(False,6),(False,0),(False,3),(False,2),(False,2),(False,1),(False,2),(False,2),(False,2),(False,8),(False,3),(False,5),(False,6),(False,3),(False,7),(False,2),(False,9),(False,8),(False,1),(False,5),(False,4),(False,5),(False,6),(False,1),(False,11),(False,4),(False,2),(False,4),(False,3),(False,0),(False,9),(False,15),(False,11),(False,3),(False,3),(False,2),(False,2),(False,5),(False,8),(False,2),(False,2),(False,4),(False,6),(False,5),(False,5),(False,1),(False,5),(False,3),(False,3),(False,0),(False,4),(False,8),(False,6),(False,3),(False,5),(False,0),(False,0),(False,3),(False,0),(False,1),(False,3),(False,2),(False,2),(False,0),(False,2),(False,10),(False,7),(False,3),(False,4),(False,6),(False,19),(False,1),(False,3),(False,3),(False,7),(False,5),(False,0),(False,4),(False,1),(False,3),(False,14),(False,10),(False,3),(False,4),(False,7),(False,1),(False,6),(False,7),(False,2),(False,6),(False,0),(False,5),(False,6),(False,7),(False,8),(False,10),(False,2),(False,0),(False,9),(False,0),(False,5),(False,3),(False,3),(False,6),(False,2),(False,2),(False,2),(False,0),(False,12)]"
      ]
     },
     "metadata": {},
     "output_type": "display_data"
    }
   ],
   "source": [
    "zip marchDates awayRuns"
   ]
  },
  {
   "cell_type": "code",
   "execution_count": 14,
   "id": "045f0aac-2103-46ad-a244-4f0c1f49ef04",
   "metadata": {},
   "outputs": [
    {
     "data": {
      "text/plain": [
       "[(True,3),(True,2),(True,1),(True,6),(True,4),(True,1),(True,7),(True,8),(True,4),(True,2),(True,7),(True,13),(True,2),(True,2),(True,3),(True,9),(True,1),(True,2),(True,5),(True,1),(True,4),(True,1),(True,5),(True,6),(True,7),(True,0),(True,6),(True,6),(True,1),(True,1),(True,6),(True,4),(True,11),(True,0),(True,4),(True,8),(True,6),(True,7),(True,12),(True,7),(True,5),(True,1),(True,12),(True,7),(True,2),(True,12),(True,2),(True,0),(True,0),(True,8),(True,4),(True,10),(True,4),(True,6),(True,4),(True,4),(True,3),(True,2),(True,7),(True,2),(True,6),(True,5),(True,7),(True,4),(True,3),(True,2),(True,3),(True,2),(True,6),(True,4),(True,2),(True,5),(True,6),(True,0),(True,16),(True,6),(True,6),(True,3),(True,5),(True,0),(True,10),(True,0),(True,3),(True,2),(True,9),(True,3),(True,4),(True,6),(True,5),(True,2),(True,5),(True,8),(True,4),(True,3),(True,7),(True,6),(True,2),(True,2),(True,11),(True,6),(True,5),(True,4),(True,3),(True,14),(True,6),(True,0),(True,6),(True,10),(True,8),(True,6),(True,1),(True,7),(True,6),(True,0),(True,1),(True,12),(True,5),(True,6),(True,4),(True,5),(True,0),(True,0),(True,4),(True,2),(True,4),(True,0),(True,3),(True,8),(True,9),(True,6),(True,1),(True,2),(True,4),(True,0),(True,2),(True,7),(True,6),(True,9),(True,9),(True,4),(True,8),(True,4),(True,0),(True,0),(True,8),(True,11),(True,3),(True,2),(True,5),(True,3),(True,3),(True,4),(True,5),(True,7),(True,2),(True,3),(True,7),(True,10),(True,2),(True,8),(True,4),(True,1),(True,7),(True,10),(True,3),(True,2),(True,4),(True,5),(True,7),(True,11),(True,3),(True,3),(True,8),(True,8),(True,1),(True,11),(True,0),(True,4),(True,3),(True,6),(True,5),(True,6),(True,10),(True,4),(True,17),(True,3),(True,3),(True,0),(True,1),(True,2),(True,3),(True,6),(True,6),(True,7),(True,6),(True,6),(True,2),(True,9),(True,1),(True,3),(True,2),(True,2),(True,14),(True,3),(True,5),(True,1),(True,4),(True,6),(True,1),(True,8),(True,9),(True,5),(True,0),(True,4),(True,0),(True,8),(True,1),(True,14),(True,8),(True,3),(True,2),(True,6),(True,5),(True,2),(True,4),(True,10),(True,7),(True,10),(True,5),(True,0),(True,2),(True,8),(True,8),(True,1),(True,4),(True,7),(True,0),(True,3),(True,0),(True,4),(True,12),(True,5),(True,4),(True,6),(True,8),(True,14),(True,5),(True,5),(True,0),(True,5),(True,4),(True,10),(True,5),(True,3),(True,1),(True,12),(True,2),(True,12),(True,5),(True,7),(True,6),(True,5),(True,3),(True,9),(True,5),(True,3),(True,0),(True,6),(True,0),(True,5),(True,3),(True,2),(True,7),(True,0),(True,1),(True,3),(True,6),(True,2),(True,7),(True,5),(True,5),(True,6),(True,9),(True,4),(True,3),(True,1),(True,4),(True,11),(True,1),(True,6),(True,3),(True,10),(True,2),(True,4),(True,3),(True,3),(True,7),(True,5),(True,7),(True,12),(True,3),(True,0),(True,4),(True,3),(True,1),(True,4),(True,1),(True,5),(True,7),(True,1),(True,2),(True,4),(True,0),(True,6),(True,4),(True,0),(True,11),(True,4),(True,6),(True,1),(True,3),(True,2),(True,5),(True,4),(True,0),(True,6),(True,4),(True,5),(True,5),(True,8),(True,4),(True,3),(True,8),(True,5),(True,2),(True,5),(True,0),(True,0),(True,4),(True,5),(True,3),(True,2),(True,4),(True,5),(True,1),(True,3),(True,3),(True,2),(True,1),(True,12),(True,1),(True,0),(True,5),(True,2),(True,8),(True,0),(True,2),(True,6),(True,7),(True,14),(True,7),(True,1),(True,4),(True,9),(True,3),(True,2),(True,1),(True,4),(True,5),(True,3),(True,3),(True,6),(True,11),(True,2),(True,2),(True,11),(True,0),(True,6),(True,5),(True,11),(True,6),(True,16),(True,7),(True,12),(True,4),(True,6),(True,6),(True,3),(True,3),(True,0),(True,0),(True,4),(True,3),(True,3),(True,3),(True,4),(True,2),(True,1),(True,9),(True,5),(True,3),(True,4),(True,4),(True,2),(True,10)]"
      ]
     },
     "metadata": {},
     "output_type": "display_data"
    }
   ],
   "source": [
    "filter fst (zip marchDates awayRuns)"
   ]
  },
  {
   "cell_type": "code",
   "execution_count": 15,
   "id": "5ffabfb1-9918-466f-8412-ecca98a1e50d",
   "metadata": {},
   "outputs": [
    {
     "data": {
      "text/plain": [
       "[3,2,1,6,4,1,7,8,4,2,7,13,2,2,3,9,1,2,5,1,4,1,5,6,7,0,6,6,1,1,6,4,11,0,4,8,6,7,12,7,5,1,12,7,2,12,2,0,0,8,4,10,4,6,4,4,3,2,7,2,6,5,7,4,3,2,3,2,6,4,2,5,6,0,16,6,6,3,5,0,10,0,3,2,9,3,4,6,5,2,5,8,4,3,7,6,2,2,11,6,5,4,3,14,6,0,6,10,8,6,1,7,6,0,1,12,5,6,4,5,0,0,4,2,4,0,3,8,9,6,1,2,4,0,2,7,6,9,9,4,8,4,0,0,8,11,3,2,5,3,3,4,5,7,2,3,7,10,2,8,4,1,7,10,3,2,4,5,7,11,3,3,8,8,1,11,0,4,3,6,5,6,10,4,17,3,3,0,1,2,3,6,6,7,6,6,2,9,1,3,2,2,14,3,5,1,4,6,1,8,9,5,0,4,0,8,1,14,8,3,2,6,5,2,4,10,7,10,5,0,2,8,8,1,4,7,0,3,0,4,12,5,4,6,8,14,5,5,0,5,4,10,5,3,1,12,2,12,5,7,6,5,3,9,5,3,0,6,0,5,3,2,7,0,1,3,6,2,7,5,5,6,9,4,3,1,4,11,1,6,3,10,2,4,3,3,7,5,7,12,3,0,4,3,1,4,1,5,7,1,2,4,0,6,4,0,11,4,6,1,3,2,5,4,0,6,4,5,5,8,4,3,8,5,2,5,0,0,4,5,3,2,4,5,1,3,3,2,1,12,1,0,5,2,8,0,2,6,7,14,7,1,4,9,3,2,1,4,5,3,3,6,11,2,2,11,0,6,5,11,6,16,7,12,4,6,6,3,3,0,0,4,3,3,3,4,2,1,9,5,3,4,4,2,10]"
      ]
     },
     "metadata": {},
     "output_type": "display_data"
    }
   ],
   "source": [
    "map snd (filter fst (zip marchDates awayRuns))"
   ]
  },
  {
   "cell_type": "code",
   "execution_count": 16,
   "id": "5ac1a99a-fc3b-44a0-b72e-578abeb4255b",
   "metadata": {},
   "outputs": [
    {
     "data": {
      "text/plain": [
       "Just 4.669135802469135"
      ]
     },
     "metadata": {},
     "output_type": "display_data"
    }
   ],
   "source": [
    "mean $ map snd (filter fst (zip marchDates awayRuns))"
   ]
  }
 ],
 "metadata": {
  "kernelspec": {
   "display_name": "Haskell",
   "language": "haskell",
   "name": "haskell"
  },
  "language_info": {
   "codemirror_mode": "ihaskell",
   "file_extension": ".hs",
   "mimetype": "text/x-haskell",
   "name": "haskell",
   "pygments_lexer": "Haskell",
   "version": "9.4.5"
  }
 },
 "nbformat": 4,
 "nbformat_minor": 5
}
