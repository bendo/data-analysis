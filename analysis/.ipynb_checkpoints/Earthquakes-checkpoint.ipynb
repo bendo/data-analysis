{
 "cells": [
  {
   "cell_type": "code",
   "execution_count": 1,
   "id": "0c9a8b4b-cc38-406d-a0aa-f0fbd3a99b7e",
   "metadata": {},
   "outputs": [
    {
     "data": {
      "text/plain": [
       "\u001b[0mCabal file warning in /opt/IHaskell/ihaskell-display/ihaskell-aeson/ihaskell-aeson.cabal@46:28: Packages with 'cabal-version: 1.12' or later should specify a specific version of the Cabal spec of the form 'cabal-version: x.y'. Use 'cabal-version: 1.16'.\u001b[0m\n",
       "\u001b[0mCabal file warning in /opt/IHaskell/ihaskell-display/ihaskell-blaze/ihaskell-blaze.cabal@49:28: Packages with 'cabal-version: 1.12' or later should specify a specific version of the Cabal spec of the form 'cabal-version: x.y'. Use 'cabal-version: 1.16'.\u001b[0m\n",
       "\u001b[0mCabal file warning in /opt/IHaskell/ihaskell-display/ihaskell-charts/ihaskell-charts.cabal@46:28: Packages with 'cabal-version: 1.12' or later should specify a specific version of the Cabal spec of the form 'cabal-version: x.y'. Use 'cabal-version: 1.16'.\u001b[0m\n",
       "\u001b[0mCabal file warning in /opt/IHaskell/ihaskell-display/ihaskell-diagrams/ihaskell-diagrams.cabal@46:28: Packages with 'cabal-version: 1.12' or later should specify a specific version of the Cabal spec of the form 'cabal-version: x.y'. Use 'cabal-version: 1.16'.\u001b[0m\n",
       "\u001b[0mCabal file warning in /opt/IHaskell/ihaskell-display/ihaskell-gnuplot/ihaskell-gnuplot.cabal@47:28: Packages with 'cabal-version: 1.12' or later should specify a specific version of the Cabal spec of the form 'cabal-version: x.y'. Use 'cabal-version: 1.16'.\u001b[0m\n",
       "\u001b[0mCabal file warning in /opt/IHaskell/ihaskell-display/ihaskell-graphviz/ihaskell-graphviz.cabal@48:28: Packages with 'cabal-version: 1.12' or later should specify a specific version of the Cabal spec of the form 'cabal-version: x.y'. Use 'cabal-version: 1.16'.\u001b[0m\n",
       "\u001b[0mCabal file warning in /opt/IHaskell/ihaskell-display/ihaskell-hatex/ihaskell-hatex.cabal@12:28: Packages with 'cabal-version: 1.12' or later should specify a specific version of the Cabal spec of the form 'cabal-version: x.y'. Use 'cabal-version: 1.16'.\u001b[0m\n",
       "\u001b[0mCabal file warning in /opt/IHaskell/ihaskell-display/ihaskell-juicypixels/ihaskell-juicypixels.cabal@52:28: Packages with 'cabal-version: 1.12' or later should specify a specific version of the Cabal spec of the form 'cabal-version: x.y'. Use 'cabal-version: 1.16'.\u001b[0m\n",
       "\u001b[0mCabal file warning in /opt/IHaskell/ihaskell-display/ihaskell-magic/ihaskell-magic.cabal@49:28: Packages with 'cabal-version: 1.12' or later should specify a specific version of the Cabal spec of the form 'cabal-version: x.y'. Use 'cabal-version: 1.16'.\u001b[0m\n",
       "\u001b[0mCabal file warning in /opt/IHaskell/ihaskell-display/ihaskell-plot/ihaskell-plot.cabal@47:28: Packages with 'cabal-version: 1.12' or later should specify a specific version of the Cabal spec of the form 'cabal-version: x.y'. Use 'cabal-version: 1.16'.\u001b[0m"
      ]
     },
     "metadata": {},
     "output_type": "display_data"
    }
   ],
   "source": [
    ":! stack build sqlite-simple"
   ]
  },
  {
   "cell_type": "code",
   "execution_count": 2,
   "id": "59324abe-71fd-49b1-b121-4f8623583358",
   "metadata": {},
   "outputs": [],
   "source": [
    "{-# LANGUAGE OverloadedStrings #-}\n",
    "{-# LANGUAGE ScopedTypeVariables #-}"
   ]
  },
  {
   "cell_type": "code",
   "execution_count": 3,
   "id": "5537b70c-40b3-4a57-b87e-2a6ad8979721",
   "metadata": {},
   "outputs": [],
   "source": [
    "import Database.SQLite.Simple\n",
    "import Data.List\n",
    "import qualified Data.Text as T"
   ]
  },
  {
   "cell_type": "code",
   "execution_count": 4,
   "id": "f1715d2a-413f-45a5-853d-fe4b7d5cb802",
   "metadata": {},
   "outputs": [],
   "source": [
    "--data Earthquake = Earthquake T.Text Float Float Float Float deriving Show\n",
    "data Earthquake = Earthquake {timestamp :: T.Text, latitude :: Float, longitude :: Float, depth :: Float, mag :: Float} deriving Show"
   ]
  },
  {
   "cell_type": "code",
   "execution_count": 5,
   "id": "b39c0163-a002-4631-9e8c-90d4f9a14277",
   "metadata": {},
   "outputs": [],
   "source": [
    "instance FromRow Earthquake where\n",
    "    fromRow = Earthquake <$> field <*> field <*> field <*> field <*> field"
   ]
  },
  {
   "cell_type": "code",
   "execution_count": 6,
   "id": "28e39677-98e2-47c8-a4b8-c4a81224669d",
   "metadata": {},
   "outputs": [],
   "source": [
    "conn <- open $ \"../data/usgs.sqlite3\""
   ]
  },
  {
   "cell_type": "code",
   "execution_count": 7,
   "id": "d7c17c92-8ec4-4aeb-af66-9b7d33847929",
   "metadata": {},
   "outputs": [],
   "source": [
    "records <- query conn \"SELECT * FROM earthquakes LIMIT ?\" (Only 5) :: IO [Earthquake]"
   ]
  },
  {
   "cell_type": "code",
   "execution_count": 8,
   "id": "e553a7de-ea4c-4aab-96ef-952911c69992",
   "metadata": {},
   "outputs": [
    {
     "data": {
      "text/plain": [
       "[Earthquake {timestamp = \"2024-07-06T14:26:26.970Z\", latitude = 38.838333, longitude = -122.80883, depth = 1.76, mag = 0.82},Earthquake {timestamp = \"2024-07-06T14:13:52.990Z\", latitude = 38.849834, longitude = -122.814, depth = 0.82, mag = 1.63},Earthquake {timestamp = \"2024-07-06T14:13:14.780Z\", latitude = 57.2728, longitude = -154.6374, depth = 39.7, mag = 1.9},Earthquake {timestamp = \"2024-07-06T14:09:09.219Z\", latitude = 31.677, longitude = -104.42, depth = 6.5055, mag = 2.0},Earthquake {timestamp = \"2024-07-06T14:00:42.861Z\", latitude = 63.0679, longitude = -150.5761, depth = 119.9, mag = 2.6}]"
      ]
     },
     "metadata": {},
     "output_type": "display_data"
    }
   ],
   "source": [
    "records"
   ]
  },
  {
   "cell_type": "code",
   "execution_count": 9,
   "id": "447852a6-528a-48d2-b616-30dd7a484a06",
   "metadata": {},
   "outputs": [
    {
     "data": {
      "text/plain": [
       "5"
      ]
     },
     "metadata": {},
     "output_type": "display_data"
    }
   ],
   "source": [
    "length records"
   ]
  },
  {
   "cell_type": "code",
   "execution_count": 10,
   "id": "8c09d4b7-bbaa-423d-8a6e-6171cec775ed",
   "metadata": {},
   "outputs": [],
   "source": [
    "--timestamp (Earthquake timestamp _ _ _ _) = timestamp"
   ]
  },
  {
   "cell_type": "code",
   "execution_count": 12,
   "id": "c1b8db44-9d08-4020-95f5-0d989d8a2c1e",
   "metadata": {},
   "outputs": [
    {
     "data": {
      "text/plain": [
       "[1.76,0.82,39.7,6.5055,119.9]"
      ]
     },
     "metadata": {},
     "output_type": "display_data"
    }
   ],
   "source": [
    "map depth records"
   ]
  },
  {
   "cell_type": "code",
   "execution_count": 16,
   "id": "6d5635c2-0fdd-4c69-938b-fbf960b6cd5b",
   "metadata": {},
   "outputs": [],
   "source": [
    "northern <- query conn \"SELECT * FROM earthquakes WHERE latitude > 0\" () :: IO [Earthquake]"
   ]
  },
  {
   "cell_type": "code",
   "execution_count": 17,
   "id": "115de9fc-7337-409b-a18a-67912932c8a8",
   "metadata": {},
   "outputs": [
    {
     "data": {
      "text/plain": [
       "2051"
      ]
     },
     "metadata": {},
     "output_type": "display_data"
    }
   ],
   "source": [
    "length northern"
   ]
  },
  {
   "cell_type": "code",
   "execution_count": 19,
   "id": "b39e0be3-12e5-4b7d-8505-914aa6905864",
   "metadata": {},
   "outputs": [],
   "source": [
    "southern <- query conn \"SELECT * FROM earthquakes WHERE latitude < 0\" () :: IO [Earthquake]"
   ]
  },
  {
   "cell_type": "code",
   "execution_count": 20,
   "id": "2630dac2-7771-4594-b9bc-6695c048a9ee",
   "metadata": {},
   "outputs": [
    {
     "data": {
      "text/plain": [
       "61"
      ]
     },
     "metadata": {},
     "output_type": "display_data"
    }
   ],
   "source": [
    "length southern"
   ]
  },
  {
   "cell_type": "code",
   "execution_count": 23,
   "id": "2be6a006-be73-4138-a226-5425f7cc3171",
   "metadata": {},
   "outputs": [],
   "source": [
    "northwest <- query conn \"SELECT * FROM earthquakes WHERE latitude > 0 AND longitude < 0\" () :: IO [Earthquake]"
   ]
  },
  {
   "cell_type": "code",
   "execution_count": 24,
   "id": "1d6983d1-e8c2-41c5-97ae-da43092e8469",
   "metadata": {},
   "outputs": [
    {
     "data": {
      "text/plain": [
       "1997"
      ]
     },
     "metadata": {},
     "output_type": "display_data"
    }
   ],
   "source": [
    "length northwest"
   ]
  },
  {
   "cell_type": "code",
   "execution_count": 25,
   "id": "f0bee908-201d-4d39-bb00-5ee5c026a2d3",
   "metadata": {},
   "outputs": [],
   "source": [
    "southwest <- query conn \"SELECT * FROM earthquakes WHERE latitude < 0 AND longitude < 0\" () :: IO [Earthquake]"
   ]
  },
  {
   "cell_type": "code",
   "execution_count": 26,
   "id": "27e447a4-b3f0-4633-bb9a-3d8ed3dfdc79",
   "metadata": {},
   "outputs": [
    {
     "data": {
      "text/plain": [
       "31"
      ]
     },
     "metadata": {},
     "output_type": "display_data"
    }
   ],
   "source": [
    "length southwest"
   ]
  },
  {
   "cell_type": "code",
   "execution_count": 27,
   "id": "9eb7987c-6960-471b-be95-ddb83916eb4c",
   "metadata": {},
   "outputs": [
    {
     "data": {
      "text/plain": [
       "[55.144,132.609,98.524,201.053,540.374,116.07,10.0,10.0,10.0,16.772,93.864,490.432,10.0,519.163,104.182,620.597,41.509,115.027,235.212,147.752,10.0,10.0,130.681,35.0,10.0,126.236,132.767,10.693,169.832,10.0,10.0]"
      ]
     },
     "metadata": {},
     "output_type": "display_data"
    }
   ],
   "source": [
    "map depth southwest"
   ]
  },
  {
   "cell_type": "code",
   "execution_count": 28,
   "id": "5ae22491-ea07-45d3-8d35-0472ffddb3fe",
   "metadata": {},
   "outputs": [
    {
     "data": {
      "text/plain": [
       "[4.3,4.4,4.8,4.8,4.4,4.1,5.1,5.0,5.2,4.0,5.3,4.3,5.2,4.4,4.1,4.5,4.5,4.5,4.0,4.2,5.1,4.8,4.5,4.3,4.3,4.5,4.6,4.3,4.4,4.5,4.4]"
      ]
     },
     "metadata": {},
     "output_type": "display_data"
    }
   ],
   "source": [
    "map mag southwest"
   ]
  },
  {
   "cell_type": "code",
   "execution_count": 30,
   "id": "2e85c416-8cc4-4a96-b9a2-2126c528424f",
   "metadata": {},
   "outputs": [],
   "source": [
    "southwest <- query conn \"SELECT * FROM earthquakes WHERE latitude < 0 AND longitude < 0 ORDER BY magnitude\" () :: IO [Earthquake]"
   ]
  },
  {
   "cell_type": "code",
   "execution_count": 31,
   "id": "cfd538af-195c-44fb-8612-7e897b61910e",
   "metadata": {},
   "outputs": [
    {
     "data": {
      "text/plain": [
       "[4.0,4.0,4.1,4.1,4.2,4.3,4.3,4.3,4.3,4.3,4.4,4.4,4.4,4.4,4.4,4.5,4.5,4.5,4.5,4.5,4.5,4.6,4.8,4.8,4.8,5.0,5.1,5.1,5.2,5.2,5.3]"
      ]
     },
     "metadata": {},
     "output_type": "display_data"
    }
   ],
   "source": [
    "map mag southwest"
   ]
  },
  {
   "cell_type": "code",
   "execution_count": 32,
   "id": "feee31b4-36e7-4353-a19a-ae2b60cfd12d",
   "metadata": {},
   "outputs": [],
   "source": [
    "southwest <- query conn \"SELECT * FROM earthquakes WHERE latitude < 0 AND longitude < 0 ORDER BY magnitude LIMIT 5\" () :: IO [Earthquake]"
   ]
  },
  {
   "cell_type": "code",
   "execution_count": 33,
   "id": "fc15469b-3ebd-4c52-ba83-6939035431fb",
   "metadata": {},
   "outputs": [
    {
     "data": {
      "text/plain": [
       "[4.0,4.0,4.1,4.1,4.2]"
      ]
     },
     "metadata": {},
     "output_type": "display_data"
    }
   ],
   "source": [
    "map mag southwest"
   ]
  },
  {
   "cell_type": "code",
   "execution_count": 35,
   "id": "2db2e618-5f5c-4ef0-86f4-3f7f90cf2ce5",
   "metadata": {},
   "outputs": [],
   "source": [
    "southwest <- query conn \"SELECT * FROM earthquakes WHERE latitude < 0 AND longitude < 0 ORDER BY magnitude DESC LIMIT 5\" () :: IO [Earthquake]"
   ]
  },
  {
   "cell_type": "code",
   "execution_count": 36,
   "id": "cf1bc56b-9a56-4176-bfa6-cedd71cc4e8c",
   "metadata": {},
   "outputs": [
    {
     "data": {
      "text/plain": [
       "[5.3,5.2,5.2,5.1,5.1]"
      ]
     },
     "metadata": {},
     "output_type": "display_data"
    }
   ],
   "source": [
    "map mag southwest"
   ]
  }
 ],
 "metadata": {
  "kernelspec": {
   "display_name": "Haskell",
   "language": "haskell",
   "name": "haskell"
  },
  "language_info": {
   "codemirror_mode": "ihaskell",
   "file_extension": ".hs",
   "mimetype": "text/x-haskell",
   "name": "haskell",
   "pygments_lexer": "Haskell",
   "version": "9.4.5"
  }
 },
 "nbformat": 4,
 "nbformat_minor": 5
}
