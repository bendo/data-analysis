{
 "cells": [
  {
   "cell_type": "markdown",
   "id": "6fbba4c6-897c-4901-81b6-d5b217b231bd",
   "metadata": {},
   "source": [
    "# Mean, Standard Deviation, Minimum, Maximum, Median, Mode"
   ]
  },
  {
   "cell_type": "code",
   "execution_count": 1,
   "id": "0ec60989",
   "metadata": {
    "scrolled": true
   },
   "outputs": [
    {
     "data": {
      "text/plain": [
       "\u001b[0mCabal file warning in /opt/IHaskell/ihaskell-display/ihaskell-aeson/ihaskell-aeson.cabal@46:28: Packages with 'cabal-version: 1.12' or later should specify a specific version of the Cabal spec of the form 'cabal-version: x.y'. Use 'cabal-version: 1.16'.\u001b[0m\n",
       "\u001b[0mCabal file warning in /opt/IHaskell/ihaskell-display/ihaskell-blaze/ihaskell-blaze.cabal@49:28: Packages with 'cabal-version: 1.12' or later should specify a specific version of the Cabal spec of the form 'cabal-version: x.y'. Use 'cabal-version: 1.16'.\u001b[0m\n",
       "\u001b[0mCabal file warning in /opt/IHaskell/ihaskell-display/ihaskell-charts/ihaskell-charts.cabal@46:28: Packages with 'cabal-version: 1.12' or later should specify a specific version of the Cabal spec of the form 'cabal-version: x.y'. Use 'cabal-version: 1.16'.\u001b[0m\n",
       "\u001b[0mCabal file warning in /opt/IHaskell/ihaskell-display/ihaskell-diagrams/ihaskell-diagrams.cabal@46:28: Packages with 'cabal-version: 1.12' or later should specify a specific version of the Cabal spec of the form 'cabal-version: x.y'. Use 'cabal-version: 1.16'.\u001b[0m\n",
       "\u001b[0mCabal file warning in /opt/IHaskell/ihaskell-display/ihaskell-gnuplot/ihaskell-gnuplot.cabal@47:28: Packages with 'cabal-version: 1.12' or later should specify a specific version of the Cabal spec of the form 'cabal-version: x.y'. Use 'cabal-version: 1.16'.\u001b[0m\n",
       "\u001b[0mCabal file warning in /opt/IHaskell/ihaskell-display/ihaskell-graphviz/ihaskell-graphviz.cabal@48:28: Packages with 'cabal-version: 1.12' or later should specify a specific version of the Cabal spec of the form 'cabal-version: x.y'. Use 'cabal-version: 1.16'.\u001b[0m\n",
       "\u001b[0mCabal file warning in /opt/IHaskell/ihaskell-display/ihaskell-hatex/ihaskell-hatex.cabal@12:28: Packages with 'cabal-version: 1.12' or later should specify a specific version of the Cabal spec of the form 'cabal-version: x.y'. Use 'cabal-version: 1.16'.\u001b[0m\n",
       "\u001b[0mCabal file warning in /opt/IHaskell/ihaskell-display/ihaskell-juicypixels/ihaskell-juicypixels.cabal@52:28: Packages with 'cabal-version: 1.12' or later should specify a specific version of the Cabal spec of the form 'cabal-version: x.y'. Use 'cabal-version: 1.16'.\u001b[0m\n",
       "\u001b[0mCabal file warning in /opt/IHaskell/ihaskell-display/ihaskell-magic/ihaskell-magic.cabal@49:28: Packages with 'cabal-version: 1.12' or later should specify a specific version of the Cabal spec of the form 'cabal-version: x.y'. Use 'cabal-version: 1.16'.\u001b[0m\n",
       "\u001b[0mCabal file warning in /opt/IHaskell/ihaskell-display/ihaskell-plot/ihaskell-plot.cabal@47:28: Packages with 'cabal-version: 1.12' or later should specify a specific version of the Cabal spec of the form 'cabal-version: x.y'. Use 'cabal-version: 1.16'.\u001b[0m"
      ]
     },
     "metadata": {},
     "output_type": "display_data"
    }
   ],
   "source": [
    ":!stack build csv"
   ]
  },
  {
   "cell_type": "code",
   "execution_count": 2,
   "id": "61c9bd20",
   "metadata": {},
   "outputs": [],
   "source": [
    "import Text.CSV\n",
    "import Data.Maybe\n",
    "import Data.List\n",
    "import Data.Ord"
   ]
  },
  {
   "cell_type": "code",
   "execution_count": 3,
   "id": "edea4da2",
   "metadata": {},
   "outputs": [],
   "source": [
    "baseball <- parseCSVFromFile \"../data/gl2023.txt\""
   ]
  },
  {
   "cell_type": "code",
   "execution_count": 4,
   "id": "74e7e470-6cef-45fc-973e-306c522595b3",
   "metadata": {},
   "outputs": [
    {
     "data": {
      "text/html": [
       "<style>/* Styles used for the Hoogle display in the pager */\n",
       ".hoogle-doc {\n",
       "display: block;\n",
       "padding-bottom: 1.3em;\n",
       "padding-left: 0.4em;\n",
       "}\n",
       ".hoogle-code {\n",
       "display: block;\n",
       "font-family: monospace;\n",
       "white-space: pre;\n",
       "}\n",
       ".hoogle-text {\n",
       "display: block;\n",
       "}\n",
       ".hoogle-name {\n",
       "color: green;\n",
       "font-weight: bold;\n",
       "}\n",
       ".hoogle-head {\n",
       "font-weight: bold;\n",
       "}\n",
       ".hoogle-sub {\n",
       "display: block;\n",
       "margin-left: 0.4em;\n",
       "}\n",
       ".hoogle-package {\n",
       "font-weight: bold;\n",
       "font-style: italic;\n",
       "}\n",
       ".hoogle-module {\n",
       "font-weight: bold;\n",
       "}\n",
       ".hoogle-class {\n",
       "font-weight: bold;\n",
       "}\n",
       ".get-type {\n",
       "color: green;\n",
       "font-weight: bold;\n",
       "font-family: monospace;\n",
       "display: block;\n",
       "white-space: pre-wrap;\n",
       "}\n",
       ".show-type {\n",
       "color: green;\n",
       "font-weight: bold;\n",
       "font-family: monospace;\n",
       "margin-left: 1em;\n",
       "}\n",
       ".mono {\n",
       "font-family: monospace;\n",
       "display: block;\n",
       "}\n",
       ".err-msg {\n",
       "color: red;\n",
       "font-style: italic;\n",
       "font-family: monospace;\n",
       "white-space: pre;\n",
       "display: block;\n",
       "}\n",
       "#unshowable {\n",
       "color: red;\n",
       "font-weight: bold;\n",
       "}\n",
       ".err-msg.in.collapse {\n",
       "padding-top: 0.7em;\n",
       "}\n",
       ".highlight-code {\n",
       "white-space: pre;\n",
       "font-family: monospace;\n",
       "}\n",
       ".suggestion-warning { \n",
       "font-weight: bold;\n",
       "color: rgb(200, 130, 0);\n",
       "}\n",
       ".suggestion-error { \n",
       "font-weight: bold;\n",
       "color: red;\n",
       "}\n",
       ".suggestion-name {\n",
       "font-weight: bold;\n",
       "}\n",
       "</style><span class='get-type'>baseball :: Either ParseError CSV</span>"
      ],
      "text/plain": [
       "baseball :: Either ParseError CSV"
      ]
     },
     "metadata": {},
     "output_type": "display_data"
    }
   ],
   "source": [
    ":type baseball"
   ]
  },
  {
   "cell_type": "code",
   "execution_count": 5,
   "id": "81fb8f5b-201b-4bb6-819e-4aee79f30d94",
   "metadata": {},
   "outputs": [],
   "source": [
    "noEmptyRows = either (const[]) (filter (\\row -> 2 <= length row))"
   ]
  },
  {
   "cell_type": "code",
   "execution_count": 6,
   "id": "588e630b-6459-4b0f-afff-43162f65cb81",
   "metadata": {},
   "outputs": [],
   "source": [
    "baseballList = noEmptyRows baseball"
   ]
  },
  {
   "cell_type": "code",
   "execution_count": 7,
   "id": "7529785e-38d9-4598-8f15-11755e228062",
   "metadata": {},
   "outputs": [
    {
     "data": {
      "text/plain": [
       "2430"
      ]
     },
     "metadata": {},
     "output_type": "display_data"
    }
   ],
   "source": [
    "length baseballList"
   ]
  },
  {
   "cell_type": "code",
   "execution_count": 8,
   "id": "9432217b-0e95-412e-a31a-94257473907e",
   "metadata": {},
   "outputs": [
    {
     "data": {
      "text/html": [
       "<style>/* Styles used for the Hoogle display in the pager */\n",
       ".hoogle-doc {\n",
       "display: block;\n",
       "padding-bottom: 1.3em;\n",
       "padding-left: 0.4em;\n",
       "}\n",
       ".hoogle-code {\n",
       "display: block;\n",
       "font-family: monospace;\n",
       "white-space: pre;\n",
       "}\n",
       ".hoogle-text {\n",
       "display: block;\n",
       "}\n",
       ".hoogle-name {\n",
       "color: green;\n",
       "font-weight: bold;\n",
       "}\n",
       ".hoogle-head {\n",
       "font-weight: bold;\n",
       "}\n",
       ".hoogle-sub {\n",
       "display: block;\n",
       "margin-left: 0.4em;\n",
       "}\n",
       ".hoogle-package {\n",
       "font-weight: bold;\n",
       "font-style: italic;\n",
       "}\n",
       ".hoogle-module {\n",
       "font-weight: bold;\n",
       "}\n",
       ".hoogle-class {\n",
       "font-weight: bold;\n",
       "}\n",
       ".get-type {\n",
       "color: green;\n",
       "font-weight: bold;\n",
       "font-family: monospace;\n",
       "display: block;\n",
       "white-space: pre-wrap;\n",
       "}\n",
       ".show-type {\n",
       "color: green;\n",
       "font-weight: bold;\n",
       "font-family: monospace;\n",
       "margin-left: 1em;\n",
       "}\n",
       ".mono {\n",
       "font-family: monospace;\n",
       "display: block;\n",
       "}\n",
       ".err-msg {\n",
       "color: red;\n",
       "font-style: italic;\n",
       "font-family: monospace;\n",
       "white-space: pre;\n",
       "display: block;\n",
       "}\n",
       "#unshowable {\n",
       "color: red;\n",
       "font-weight: bold;\n",
       "}\n",
       ".err-msg.in.collapse {\n",
       "padding-top: 0.7em;\n",
       "}\n",
       ".highlight-code {\n",
       "white-space: pre;\n",
       "font-family: monospace;\n",
       "}\n",
       ".suggestion-warning { \n",
       "font-weight: bold;\n",
       "color: rgb(200, 130, 0);\n",
       "}\n",
       ".suggestion-error { \n",
       "font-weight: bold;\n",
       "color: red;\n",
       "}\n",
       ".suggestion-name {\n",
       "font-weight: bold;\n",
       "}\n",
       "</style><span class='get-type'>baseballList :: [[Field]]</span>"
      ],
      "text/plain": [
       "baseballList :: [[Field]]"
      ]
     },
     "metadata": {},
     "output_type": "display_data"
    }
   ],
   "source": [
    ":type baseballList"
   ]
  },
  {
   "cell_type": "code",
   "execution_count": 9,
   "id": "f5d2915e-d05a-412d-8ec9-8ab23910a183",
   "metadata": {},
   "outputs": [
    {
     "data": {},
     "metadata": {},
     "output_type": "display_data"
    },
    {
     "data": {
      "text/html": [
       "<div style='background: rgb(247, 247, 247);'><form><textarea id='code'>type Field :: *\n",
       "type Field = String\n",
       "  \t-- Defined in ‘Text.CSV’\n",
       "</textarea></form></div><script>CodeMirror.fromTextArea(document.getElementById('code'), {mode: 'haskell', readOnly: 'nocursor'});</script>"
      ],
      "text/plain": [
       "type Field :: *\n",
       "type Field = String\n",
       "  \t-- Defined in ‘Text.CSV’"
      ]
     },
     "metadata": {},
     "output_type": "display_data"
    }
   ],
   "source": [
    ":info Field"
   ]
  },
  {
   "cell_type": "code",
   "execution_count": 10,
   "id": "6da80f07-3494-4923-8c19-62e469af5fec",
   "metadata": {},
   "outputs": [
    {
     "data": {
      "text/plain": [
       "1"
      ]
     },
     "metadata": {},
     "output_type": "display_data"
    }
   ],
   "source": [
    "read \"1\" :: Integer"
   ]
  },
  {
   "cell_type": "code",
   "execution_count": 11,
   "id": "bc2e6875-ec80-46ee-909f-816e3301d06d",
   "metadata": {},
   "outputs": [
    {
     "data": {
      "text/plain": [
       "1.5"
      ]
     },
     "metadata": {},
     "output_type": "display_data"
    }
   ],
   "source": [
    "read \"1.5\" :: Double"
   ]
  },
  {
   "cell_type": "code",
   "execution_count": 12,
   "id": "972fefbd-9f5b-4660-a99e-0e2643a5c8d7",
   "metadata": {},
   "outputs": [],
   "source": [
    "readIndex :: Read cell => Either a CSV -> Int -> [cell]\n",
    "readIndex csv index = map (read . (!! index)) (noEmptyRows csv)"
   ]
  },
  {
   "cell_type": "code",
   "execution_count": 13,
   "id": "e5b96ac3-885f-4210-9750-e4f65cf2f744",
   "metadata": {},
   "outputs": [
    {
     "data": {
      "text/plain": [
       "[0,5,2,5,7,10,7,10,3,2,0,1,0,0,7,2,1,4,3,9,3,2,1,6,4,1,7,8,4,2,7,13,2,2,3,9,1,2,5,1,4,1,5,6,7,0,6,6,1,1,6,4,11,0,4,8,6,7,12,7,5,1,12,7,2,12,2,0,0,8,4,10,4,6,4,4,3,2,7,2,6,5,7,4,3,2,3,2,6,4,2,5,6,0,16,6,6,3,5,0,10,0,3,2,9,3,4,6,5,2,5,8,4,3,7,6,2,2,11,6,5,4,3,14,6,0,6,10,8,6,1,7,6,0,1,12,5,6,4,5,0,0,4,2,4,0,3,8,9,6,1,2,4,0,2,7,6,9,9,4,8,4,0,0,8,11,3,2,5,3,3,4,5,7,2,3,7,10,2,8,4,1,7,10,3,2,4,5,7,11,3,3,8,8,1,11,0,4,3,6,5,6,10,4,17,3,3,0,1,2,3,6,6,7,6,6,2,9,1,3,2,2,14,3,5,1,4,6,1,8,9,5,0,4,0,8,1,14,8,3,2,6,5,2,4,10,7,10,5,0,2,8,8,1,4,7,0,3,0,4,12,5,4,6,8,14,5,5,0,5,4,10,5,3,1,12,2,12,5,7,6,5,3,9,5,3,0,6,0,5,3,2,7,0,1,3,6,2,7,5,5,6,9,4,3,1,4,11,1,6,3,10,2,4,3,3,7,5,7,12,3,0,4,3,1,4,1,5,7,1,2,4,0,6,4,0,11,4,6,1,3,2,5,4,0,6,4,5,5,8,4,3,8,5,2,5,0,0,4,5,3,2,4,5,1,3,3,2,1,12,1,0,5,2,8,0,2,6,7,14,7,1,4,9,3,2,1,4,5,3,3,6,11,2,2,11,0,6,5,11,6,16,7,12,4,6,6,3,3,0,0,4,3,3,3,4,2,1,9,5,3,4,4,2,10,4,9,3,3,5,5,3,3,2,1,6,2,5,1,6,2,2,11,2,2,1,4,1,6,14,1,6,1,3,4,5,1,4,0,3,7,1,12,6,6,11,3,5,7,0,13,5,2,1,9,1,5,0,5,4,2,4,5,4,2,12,6,4,7,4,2,3,5,7,8,2,1,6,10,3,5,5,3,9,2,5,17,13,1,10,5,7,6,16,0,1,1,7,2,3,3,0,5,4,3,6,5,2,2,6,3,6,6,6,4,10,1,3,2,0,4,6,5,0,5,5,4,2,8,1,4,11,5,1,5,1,3,3,4,6,0,3,3,8,4,5,6,2,7,1,3,3,8,5,5,9,6,5,7,0,2,7,2,6,3,2,0,4,1,6,5,1,8,5,2,1,0,0,1,6,8,4,9,4,3,3,3,8,11,5,8,8,0,3,1,3,9,10,4,5,12,7,3,5,4,8,5,3,3,3,4,3,0,3,8,4,6,6,3,3,7,4,4,0,1,3,2,8,6,5,6,0,3,2,8,6,3,4,2,6,9,10,3,6,3,5,8,4,0,1,0,2,6,7,7,3,4,4,1,5,2,6,1,2,4,5,6,2,4,4,1,1,8,0,5,5,4,2,2,0,6,3,8,8,5,3,12,6,4,1,0,8,4,2,4,8,2,8,4,0,4,6,7,0,4,1,4,5,2,20,3,2,3,10,0,5,3,3,3,6,6,1,9,1,3,5,10,2,6,5,8,2,3,2,3,7,6,9,5,15,6,12,3,12,12,3,5,5,11,3,2,2,8,7,3,8,5,2,3,4,7,2,6,0,6,2,4,8,10,5,2,2,3,5,2,3,7,10,3,10,5,0,1,4,7,5,6,5,7,2,10,1,1,3,9,0,2,1,5,9,3,10,1,1,10,2,0,4,10,1,1,9,12,5,12,2,8,4,0,4,4,10,2,2,2,6,1,2,5,4,0,3,5,2,3,7,0,2,7,0,0,5,10,6,1,2,3,0,0,4,5,4,1,6,6,4,6,8,5,4,5,6,1,7,8,11,6,2,2,0,2,3,0,6,3,4,0,4,3,11,4,8,10,1,3,0,11,4,10,4,5,3,0,4,1,5,6,5,1,2,9,3,6,2,2,1,1,2,10,6,6,6,2,1,3,6,0,2,2,2,9,5,4,7,3,4,4,2,1,9,11,3,3,3,4,3,2,9,5,4,8,6,1,5,6,5,1,8,9,6,4,8,3,1,3,4,4,3,6,0,7,3,3,6,8,4,4,5,5,3,1,9,15,3,1,7,3,11,6,7,1,5,5,1,3,7,4,6,8,3,0,8,3,3,10,6,4,7,2,6,4,3,5,3,2,4,8,2,4,8,4,5,1,1,3,7,4,1,6,6,5,2,3,7,6,2,2,3,2,2,15,0,5,0,5,10,9,0,3,4,2,12,6,6,7,2,8,4,4,2,1,9,5,6,3,1,7,4,0,9,8,4,8,5,4,11,9,6,2,5,4,4,3,9,2,6,2,1,2,10,1,8,3,6,5,8,2,0,2,6,6,4,8,4,2,2,4,5,10,5,1,0,10,6,10,4,2,3,1,3,5,13,3,7,4,4,3,5,7,25,7,3,4,2,6,9,4,4,2,2,0,9,3,7,3,6,0,6,8,5,5,2,1,5,6,3,1,1,1,2,1,3,4,7,4,2,5,5,2,4,2,2,3,10,2,1,7,3,3,3,0,8,8,5,1,10,11,11,6,14,11,4,2,1,6,3,14,3,4,14,9,2,3,10,8,1,4,1,5,5,5,2,7,6,8,9,4,15,5,5,0,6,12,4,1,4,11,4,6,3,1,4,6,3,2,7,3,8,3,14,4,5,6,1,2,1,1,8,6,5,5,2,4,6,3,6,3,4,4,3,12,8,9,2,7,5,6,8,6,4,5,1,1,3,4,3,2,4,9,4,3,0,9,2,8,12,4,0,6,8,9,2,3,5,5,6,6,5,1,0,5,14,3,3,4,4,3,7,5,7,3,7,0,12,10,3,3,2,2,5,3,8,1,3,3,3,3,6,0,2,6,3,6,4,3,0,2,0,2,3,4,4,4,3,15,7,4,0,8,1,2,6,8,6,7,7,2,5,5,4,2,6,4,3,6,5,4,4,3,6,12,5,6,4,10,6,0,2,8,11,4,7,1,6,8,4,9,4,4,5,0,5,5,7,4,11,4,3,6,3,7,6,2,16,3,11,3,10,3,10,2,1,10,10,0,10,3,9,5,3,2,4,1,5,5,4,3,5,3,5,6,1,2,5,7,1,6,4,3,3,0,4,0,3,6,6,6,3,5,5,5,5,4,4,6,2,0,11,6,2,4,3,1,3,6,0,14,2,2,1,8,6,16,2,3,2,4,1,5,1,8,1,4,5,3,4,5,4,10,6,2,3,8,10,5,1,9,3,1,7,4,3,1,1,5,1,7,1,7,3,9,9,1,11,8,0,4,3,3,4,3,10,3,13,8,1,7,1,10,6,6,11,5,7,8,6,5,1,2,1,3,3,0,0,4,5,1,3,5,11,2,5,11,6,0,2,5,8,2,4,7,1,4,6,0,9,6,2,4,3,3,0,3,5,8,1,3,4,6,3,4,4,3,3,5,2,4,1,9,8,3,3,1,3,3,6,0,6,5,6,0,13,5,6,11,1,8,6,2,3,2,2,0,2,3,1,1,3,2,4,1,0,5,5,2,3,3,6,8,6,8,7,10,9,9,3,7,2,8,2,7,2,6,7,2,6,3,2,3,3,5,7,2,1,1,1,8,4,6,4,4,8,1,3,0,13,5,10,3,9,6,0,2,1,2,6,13,8,2,1,3,9,5,5,3,7,3,4,5,8,5,7,9,7,0,0,6,0,2,2,5,6,3,0,6,1,8,3,2,1,5,0,1,6,1,2,5,4,0,3,0,5,10,1,9,7,2,9,2,2,2,7,3,8,2,8,6,0,1,1,21,6,8,9,2,6,3,3,5,1,5,5,4,3,7,6,3,2,6,2,7,3,7,2,5,9,4,3,4,1,2,4,10,5,6,0,0,5,3,8,2,6,7,3,0,2,5,10,3,3,1,0,3,2,9,1,12,3,2,6,8,2,6,8,2,9,0,3,4,7,6,0,4,0,1,11,0,7,7,9,4,1,2,1,8,9,9,5,4,4,5,1,1,6,8,13,12,6,18,4,10,7,8,7,6,4,3,10,10,3,3,4,7,0,6,12,6,3,10,4,1,2,14,7,4,4,3,2,3,3,3,3,4,6,6,3,6,3,2,4,4,0,7,8,6,0,9,7,0,4,6,6,7,1,4,5,2,5,3,8,9,17,5,6,3,8,7,3,3,2,1,5,4,7,12,1,2,5,6,5,8,3,4,5,1,10,7,4,5,2,9,6,2,0,3,2,1,6,2,0,10,5,4,7,1,17,6,2,4,10,6,14,4,4,4,1,4,0,13,4,5,6,0,3,0,3,1,11,2,7,1,5,3,6,4,6,4,3,5,2,7,0,3,5,10,4,4,10,7,6,4,5,4,0,8,7,6,3,2,6,2,13,6,5,1,3,4,8,4,2,6,2,2,5,7,1,7,4,5,8,1,7,11,10,6,5,9,1,9,8,15,7,1,4,3,0,4,6,3,6,6,7,6,5,2,0,3,2,9,6,20,1,6,7,13,3,10,8,6,3,7,0,11,5,8,6,1,7,6,14,5,11,2,8,4,4,5,2,10,1,6,3,2,1,12,5,6,10,2,10,1,2,1,9,3,8,8,6,11,6,11,2,8,4,6,4,8,3,4,4,1,6,2,13,1,5,4,9,5,2,1,2,2,1,5,3,7,1,3,2,2,2,3,3,4,2,5,11,0,4,10,5,6,4,5,4,7,8,10,4,2,1,4,7,1,3,5,3,4,2,11,6,6,2,0,6,3,6,2,1,4,6,5,1,7,4,2,5,2,10,2,1,0,4,0,8,10,2,9,4,2,6,3,5,7,5,11,7,10,3,2,8,6,0,6,5,2,5,5,3,6,6,5,0,6,1,8,5,6,3,2,11,2,2,4,2,5,5,4,4,2,7,10,6,2,7,3,3,2,9,0,6,8,4,5,4,4,3,1,7,2,3,0,7,3,9,6,7,7,2,4,1,6,13,5,4,8,2,8,3,1,2,6,6,8,5,8,2,4,6,10,2,3,7,4,0,7,5,16,4,2,9,2,8,7,6,1,2,6,5,3,13,0,4,5,5,1,2,3,1,1,6,0,3,2,2,1,2,2,2,8,3,5,6,3,7,2,9,8,1,5,4,5,6,1,11,4,2,4,3,0,9,15,11,3,3,2,2,5,8,2,2,4,6,5,5,1,5,3,3,0,4,8,6,3,5,0,0,3,0,1,3,2,2,0,2,10,7,3,4,6,19,1,3,3,7,5,0,4,1,3,14,10,3,4,7,1,6,7,2,6,0,5,6,7,8,10,2,0,9,0,5,3,3,6,2,2,2,0,12]"
      ]
     },
     "metadata": {},
     "output_type": "display_data"
    }
   ],
   "source": [
    "readIndex baseball 9 :: [Integer]"
   ]
  },
  {
   "cell_type": "code",
   "execution_count": 14,
   "id": "036c86cc-852f-4c5f-bf8f-46484c01497d",
   "metadata": {},
   "outputs": [],
   "source": [
    "awayRuns = readIndex baseball 9 :: [Integer]"
   ]
  },
  {
   "cell_type": "code",
   "execution_count": 15,
   "id": "ca4dd628-02d8-4a4f-acf7-7294d851c32a",
   "metadata": {},
   "outputs": [
    {
     "data": {
      "text/plain": [
       "25"
      ]
     },
     "metadata": {},
     "output_type": "display_data"
    }
   ],
   "source": [
    "maximum awayRuns"
   ]
  },
  {
   "cell_type": "code",
   "execution_count": 16,
   "id": "0f9a9533-891a-43b0-a836-a80069f0d054",
   "metadata": {},
   "outputs": [
    {
     "data": {
      "text/plain": [
       "0"
      ]
     },
     "metadata": {},
     "output_type": "display_data"
    }
   ],
   "source": [
    "minimum awayRuns"
   ]
  },
  {
   "cell_type": "code",
   "execution_count": 17,
   "id": "72df6614-ac2d-4790-9cbd-eeffc56e8530",
   "metadata": {},
   "outputs": [
    {
     "data": {
      "text/html": [
       "<style>/* Styles used for the Hoogle display in the pager */\n",
       ".hoogle-doc {\n",
       "display: block;\n",
       "padding-bottom: 1.3em;\n",
       "padding-left: 0.4em;\n",
       "}\n",
       ".hoogle-code {\n",
       "display: block;\n",
       "font-family: monospace;\n",
       "white-space: pre;\n",
       "}\n",
       ".hoogle-text {\n",
       "display: block;\n",
       "}\n",
       ".hoogle-name {\n",
       "color: green;\n",
       "font-weight: bold;\n",
       "}\n",
       ".hoogle-head {\n",
       "font-weight: bold;\n",
       "}\n",
       ".hoogle-sub {\n",
       "display: block;\n",
       "margin-left: 0.4em;\n",
       "}\n",
       ".hoogle-package {\n",
       "font-weight: bold;\n",
       "font-style: italic;\n",
       "}\n",
       ".hoogle-module {\n",
       "font-weight: bold;\n",
       "}\n",
       ".hoogle-class {\n",
       "font-weight: bold;\n",
       "}\n",
       ".get-type {\n",
       "color: green;\n",
       "font-weight: bold;\n",
       "font-family: monospace;\n",
       "display: block;\n",
       "white-space: pre-wrap;\n",
       "}\n",
       ".show-type {\n",
       "color: green;\n",
       "font-weight: bold;\n",
       "font-family: monospace;\n",
       "margin-left: 1em;\n",
       "}\n",
       ".mono {\n",
       "font-family: monospace;\n",
       "display: block;\n",
       "}\n",
       ".err-msg {\n",
       "color: red;\n",
       "font-style: italic;\n",
       "font-family: monospace;\n",
       "white-space: pre;\n",
       "display: block;\n",
       "}\n",
       "#unshowable {\n",
       "color: red;\n",
       "font-weight: bold;\n",
       "}\n",
       ".err-msg.in.collapse {\n",
       "padding-top: 0.7em;\n",
       "}\n",
       ".highlight-code {\n",
       "white-space: pre;\n",
       "font-family: monospace;\n",
       "}\n",
       ".suggestion-warning { \n",
       "font-weight: bold;\n",
       "color: rgb(200, 130, 0);\n",
       "}\n",
       ".suggestion-error { \n",
       "font-weight: bold;\n",
       "color: red;\n",
       "}\n",
       ".suggestion-name {\n",
       "font-weight: bold;\n",
       "}\n",
       "</style><span class='get-type'>(minimum, maximum) :: forall {t1 :: * -> *} {t2 :: * -> *} {a1} {a2}. (Foldable t1, Foldable t2, Ord a1, Ord a2) => (t1 a1 -> a1, t2 a2 -> a2)</span>"
      ],
      "text/plain": [
       "(minimum, maximum) :: forall {t1 :: * -> *} {t2 :: * -> *} {a1} {a2}. (Foldable t1, Foldable t2, Ord a1, Ord a2) => (t1 a1 -> a1, t2 a2 -> a2)"
      ]
     },
     "metadata": {},
     "output_type": "display_data"
    }
   ],
   "source": [
    ":type (minimum, maximum)"
   ]
  },
  {
   "cell_type": "code",
   "execution_count": 18,
   "id": "9c0948f6-6137-4034-8127-05a67c21ff72",
   "metadata": {
    "tags": []
   },
   "outputs": [],
   "source": [
    "range :: Ord a => [a] -> Maybe (a, a)\n",
    "range [] = Nothing\n",
    "range [x] = Just (x, x)\n",
    "range xs = Just (minimum xs, maximum xs)"
   ]
  },
  {
   "cell_type": "code",
   "execution_count": 19,
   "id": "7629b183-c5a4-41bb-be1c-c0e781cd68ba",
   "metadata": {},
   "outputs": [
    {
     "data": {
      "text/plain": [
       "Just (0,25)"
      ]
     },
     "metadata": {},
     "output_type": "display_data"
    }
   ],
   "source": [
    "range awayRuns"
   ]
  },
  {
   "cell_type": "code",
   "execution_count": 20,
   "id": "29ce3d14-e45e-434f-a534-6c941831a0bd",
   "metadata": {},
   "outputs": [
    {
     "data": {
      "text/plain": [
       "Nothing"
      ]
     },
     "metadata": {},
     "output_type": "display_data"
    }
   ],
   "source": [
    "range []"
   ]
  },
  {
   "cell_type": "code",
   "execution_count": 21,
   "id": "4a0298c4-ade0-4780-babc-150d6f280391",
   "metadata": {},
   "outputs": [
    {
     "data": {
      "text/plain": [
       "11263"
      ]
     },
     "metadata": {},
     "output_type": "display_data"
    }
   ],
   "source": [
    "sum awayRuns"
   ]
  },
  {
   "cell_type": "code",
   "execution_count": 22,
   "id": "f94da607-2f9d-4e29-a888-af357e6a8998",
   "metadata": {},
   "outputs": [
    {
     "data": {
      "text/plain": [
       "2430"
      ]
     },
     "metadata": {},
     "output_type": "display_data"
    }
   ],
   "source": [
    "length awayRuns"
   ]
  },
  {
   "cell_type": "code",
   "execution_count": 23,
   "id": "9f4dc359-c284-4b59-8381-23df6c3c9f43",
   "metadata": {},
   "outputs": [
    {
     "data": {
      "text/html": [
       "<style>/* Styles used for the Hoogle display in the pager */\n",
       ".hoogle-doc {\n",
       "display: block;\n",
       "padding-bottom: 1.3em;\n",
       "padding-left: 0.4em;\n",
       "}\n",
       ".hoogle-code {\n",
       "display: block;\n",
       "font-family: monospace;\n",
       "white-space: pre;\n",
       "}\n",
       ".hoogle-text {\n",
       "display: block;\n",
       "}\n",
       ".hoogle-name {\n",
       "color: green;\n",
       "font-weight: bold;\n",
       "}\n",
       ".hoogle-head {\n",
       "font-weight: bold;\n",
       "}\n",
       ".hoogle-sub {\n",
       "display: block;\n",
       "margin-left: 0.4em;\n",
       "}\n",
       ".hoogle-package {\n",
       "font-weight: bold;\n",
       "font-style: italic;\n",
       "}\n",
       ".hoogle-module {\n",
       "font-weight: bold;\n",
       "}\n",
       ".hoogle-class {\n",
       "font-weight: bold;\n",
       "}\n",
       ".get-type {\n",
       "color: green;\n",
       "font-weight: bold;\n",
       "font-family: monospace;\n",
       "display: block;\n",
       "white-space: pre-wrap;\n",
       "}\n",
       ".show-type {\n",
       "color: green;\n",
       "font-weight: bold;\n",
       "font-family: monospace;\n",
       "margin-left: 1em;\n",
       "}\n",
       ".mono {\n",
       "font-family: monospace;\n",
       "display: block;\n",
       "}\n",
       ".err-msg {\n",
       "color: red;\n",
       "font-style: italic;\n",
       "font-family: monospace;\n",
       "white-space: pre;\n",
       "display: block;\n",
       "}\n",
       "#unshowable {\n",
       "color: red;\n",
       "font-weight: bold;\n",
       "}\n",
       ".err-msg.in.collapse {\n",
       "padding-top: 0.7em;\n",
       "}\n",
       ".highlight-code {\n",
       "white-space: pre;\n",
       "font-family: monospace;\n",
       "}\n",
       ".suggestion-warning { \n",
       "font-weight: bold;\n",
       "color: rgb(200, 130, 0);\n",
       "}\n",
       ".suggestion-error { \n",
       "font-weight: bold;\n",
       "color: red;\n",
       "}\n",
       ".suggestion-name {\n",
       "font-weight: bold;\n",
       "}\n",
       "</style><span class='get-type'>sum :: forall (t :: * -> *) a. (Foldable t, Num a) => t a -> a</span>"
      ],
      "text/plain": [
       "sum :: forall (t :: * -> *) a. (Foldable t, Num a) => t a -> a"
      ]
     },
     "metadata": {},
     "output_type": "display_data"
    }
   ],
   "source": [
    ":type sum"
   ]
  },
  {
   "cell_type": "code",
   "execution_count": 24,
   "id": "7e930146-a335-484f-91c6-a9704970660e",
   "metadata": {},
   "outputs": [
    {
     "data": {
      "text/html": [
       "<style>/* Styles used for the Hoogle display in the pager */\n",
       ".hoogle-doc {\n",
       "display: block;\n",
       "padding-bottom: 1.3em;\n",
       "padding-left: 0.4em;\n",
       "}\n",
       ".hoogle-code {\n",
       "display: block;\n",
       "font-family: monospace;\n",
       "white-space: pre;\n",
       "}\n",
       ".hoogle-text {\n",
       "display: block;\n",
       "}\n",
       ".hoogle-name {\n",
       "color: green;\n",
       "font-weight: bold;\n",
       "}\n",
       ".hoogle-head {\n",
       "font-weight: bold;\n",
       "}\n",
       ".hoogle-sub {\n",
       "display: block;\n",
       "margin-left: 0.4em;\n",
       "}\n",
       ".hoogle-package {\n",
       "font-weight: bold;\n",
       "font-style: italic;\n",
       "}\n",
       ".hoogle-module {\n",
       "font-weight: bold;\n",
       "}\n",
       ".hoogle-class {\n",
       "font-weight: bold;\n",
       "}\n",
       ".get-type {\n",
       "color: green;\n",
       "font-weight: bold;\n",
       "font-family: monospace;\n",
       "display: block;\n",
       "white-space: pre-wrap;\n",
       "}\n",
       ".show-type {\n",
       "color: green;\n",
       "font-weight: bold;\n",
       "font-family: monospace;\n",
       "margin-left: 1em;\n",
       "}\n",
       ".mono {\n",
       "font-family: monospace;\n",
       "display: block;\n",
       "}\n",
       ".err-msg {\n",
       "color: red;\n",
       "font-style: italic;\n",
       "font-family: monospace;\n",
       "white-space: pre;\n",
       "display: block;\n",
       "}\n",
       "#unshowable {\n",
       "color: red;\n",
       "font-weight: bold;\n",
       "}\n",
       ".err-msg.in.collapse {\n",
       "padding-top: 0.7em;\n",
       "}\n",
       ".highlight-code {\n",
       "white-space: pre;\n",
       "font-family: monospace;\n",
       "}\n",
       ".suggestion-warning { \n",
       "font-weight: bold;\n",
       "color: rgb(200, 130, 0);\n",
       "}\n",
       ".suggestion-error { \n",
       "font-weight: bold;\n",
       "color: red;\n",
       "}\n",
       ".suggestion-name {\n",
       "font-weight: bold;\n",
       "}\n",
       "</style><span class='get-type'>length :: forall (t :: * -> *) a. Foldable t => t a -> Int</span>"
      ],
      "text/plain": [
       "length :: forall (t :: * -> *) a. Foldable t => t a -> Int"
      ]
     },
     "metadata": {},
     "output_type": "display_data"
    }
   ],
   "source": [
    ":type length"
   ]
  },
  {
   "cell_type": "code",
   "execution_count": 25,
   "id": "41435187-0192-4bde-a5c1-0d3718179ea2",
   "metadata": {},
   "outputs": [
    {
     "data": {},
     "metadata": {},
     "output_type": "display_data"
    },
    {
     "data": {
      "text/html": [
       "<div style='background: rgb(247, 247, 247);'><form><textarea id='code'>realToFrac :: (Real a, Fractional b) => a -> b \t-- Defined in ‘GHC.Real’\n",
       "</textarea></form></div><script>CodeMirror.fromTextArea(document.getElementById('code'), {mode: 'haskell', readOnly: 'nocursor'});</script>"
      ],
      "text/plain": [
       "realToFrac :: (Real a, Fractional b) => a -> b \t-- Defined in ‘GHC.Real’"
      ]
     },
     "metadata": {},
     "output_type": "display_data"
    }
   ],
   "source": [
    ":info realToFrac"
   ]
  },
  {
   "cell_type": "code",
   "execution_count": 26,
   "id": "85208cf6-d9ff-4090-a490-7565b897b3df",
   "metadata": {},
   "outputs": [
    {
     "data": {
      "text/plain": [
       "4.634979423868312"
      ]
     },
     "metadata": {},
     "output_type": "display_data"
    }
   ],
   "source": [
    "realToFrac (sum awayRuns) / fromIntegral (length awayRuns)"
   ]
  },
  {
   "cell_type": "code",
   "execution_count": 27,
   "id": "d10fb0ec-0f87-4c0d-b225-31f9d534c919",
   "metadata": {},
   "outputs": [],
   "source": [
    "mean :: Real a => [a] -> Maybe Double\n",
    "mean [] = Nothing\n",
    "mean [x] = Just $ realToFrac x\n",
    "mean xs = Just $ realToFrac (sum xs) / fromIntegral (length xs)"
   ]
  },
  {
   "cell_type": "code",
   "execution_count": 28,
   "id": "3059e890-5101-47df-9414-47a0d59db5ab",
   "metadata": {},
   "outputs": [
    {
     "data": {
      "text/plain": [
       "Nothing"
      ]
     },
     "metadata": {},
     "output_type": "display_data"
    }
   ],
   "source": [
    "mean []"
   ]
  },
  {
   "cell_type": "code",
   "execution_count": 29,
   "id": "375f7a56-4832-400b-aa51-a73616ca729d",
   "metadata": {},
   "outputs": [
    {
     "data": {
      "text/plain": [
       "Just 1.0"
      ]
     },
     "metadata": {},
     "output_type": "display_data"
    }
   ],
   "source": [
    "mean [1]"
   ]
  },
  {
   "cell_type": "code",
   "execution_count": 30,
   "id": "635633a9-4974-4f05-aef8-83b817b8a714",
   "metadata": {},
   "outputs": [
    {
     "data": {
      "text/plain": [
       "Just 4.634979423868312"
      ]
     },
     "metadata": {},
     "output_type": "display_data"
    }
   ],
   "source": [
    "mean awayRuns"
   ]
  },
  {
   "cell_type": "code",
   "execution_count": 31,
   "id": "0578b896-d08e-48b4-9659-a2b6de6df774",
   "metadata": {},
   "outputs": [],
   "source": [
    "stdev :: Real a => [a] -> Maybe Double\n",
    "stdev [] = Nothing\n",
    "stdev [_] = Nothing\n",
    "stdev xs = Just $ sqrt (sumsquares / n_m1)\n",
    "    where\n",
    "        n_m1 = fromIntegral (length xs - 1)\n",
    "        meanxs = fromJust (mean xs)\n",
    "        sumsquares = sum $ map (diffsquare . realToFrac) xs\n",
    "        diffsquare x = (x - meanxs) * (x - meanxs)"
   ]
  },
  {
   "cell_type": "code",
   "execution_count": 32,
   "id": "5d10aecf-f27b-4126-921f-d1fa267560fb",
   "metadata": {},
   "outputs": [
    {
     "data": {
      "text/plain": [
       "Just 3.285710591606553"
      ]
     },
     "metadata": {},
     "output_type": "display_data"
    }
   ],
   "source": [
    "stdev awayRuns"
   ]
  },
  {
   "cell_type": "code",
   "execution_count": 33,
   "id": "286de2a5-40fa-4d5f-99a6-40448b292550",
   "metadata": {},
   "outputs": [
    {
     "data": {
      "text/plain": [
       "(1.35,7.91)"
      ]
     },
     "metadata": {},
     "output_type": "display_data"
    }
   ],
   "source": [
    "(4.63 - 3.28, 4.63 + 3.28)"
   ]
  },
  {
   "cell_type": "code",
   "execution_count": 34,
   "id": "bb99a049-276a-492f-82ce-52e372eead4d",
   "metadata": {},
   "outputs": [
    {
     "data": {
      "text/plain": [
       "Just 8.0"
      ]
     },
     "metadata": {},
     "output_type": "display_data"
    }
   ],
   "source": [
    "mean [10,8,10,8,8,4]"
   ]
  },
  {
   "cell_type": "code",
   "execution_count": 35,
   "id": "f550180d-b77e-4a78-a1b6-5c559a0d285c",
   "metadata": {},
   "outputs": [
    {
     "data": {
      "text/plain": [
       "Just 4.050957468334666"
      ]
     },
     "metadata": {},
     "output_type": "display_data"
    }
   ],
   "source": [
    "stdev [10,8,10,8,8,1,2,2,1,2,1,3,2,1,1,1,1,1,1,1,4,10,10,10,10,10,10]"
   ]
  },
  {
   "cell_type": "markdown",
   "id": "4620c958-5840-4039-b5ba-a0d64b6cc406",
   "metadata": {
    "tags": []
   },
   "source": [
    "### Median"
   ]
  },
  {
   "cell_type": "code",
   "execution_count": 36,
   "id": "79a50e66-fa4a-4192-9673-0fcbb5537332",
   "metadata": {
    "tags": []
   },
   "outputs": [],
   "source": [
    "oddList = [3,4,1,2,5]"
   ]
  },
  {
   "cell_type": "code",
   "execution_count": 37,
   "id": "d6dd83c7-3ab1-44d7-a1e9-c528f5b16879",
   "metadata": {},
   "outputs": [],
   "source": [
    "evenList = [6,5,4,3,2,1]"
   ]
  },
  {
   "cell_type": "code",
   "execution_count": 38,
   "id": "17f2e505-1391-4a7e-a156-5be904f729d9",
   "metadata": {},
   "outputs": [
    {
     "data": {
      "text/plain": [
       "[1,2,3,4,5]"
      ]
     },
     "metadata": {},
     "output_type": "display_data"
    }
   ],
   "source": [
    "sort oddList"
   ]
  },
  {
   "cell_type": "code",
   "execution_count": 39,
   "id": "53e8e51a-5925-4fee-aecf-3f3013d92700",
   "metadata": {},
   "outputs": [
    {
     "data": {
      "text/plain": [
       "[1,2,3,4,5,6]"
      ]
     },
     "metadata": {},
     "output_type": "display_data"
    }
   ],
   "source": [
    "sort evenList"
   ]
  },
  {
   "cell_type": "markdown",
   "id": "42d519c3-cc41-47b6-8d7c-00806545b138",
   "metadata": {},
   "source": [
    "With the odd list I can take the length of the sorted list and divide it by 2. I will get the middle element. Which is **median** of the list."
   ]
  },
  {
   "cell_type": "code",
   "execution_count": 40,
   "id": "665abff6-772c-4865-8059-0795fda16bd2",
   "metadata": {},
   "outputs": [
    {
     "data": {
      "text/plain": [
       "2"
      ]
     },
     "metadata": {},
     "output_type": "display_data"
    }
   ],
   "source": [
    "length oddList `div` 2"
   ]
  },
  {
   "cell_type": "code",
   "execution_count": 41,
   "id": "2c36889d-e591-4474-b460-cf542a1c03e9",
   "metadata": {},
   "outputs": [
    {
     "data": {
      "text/plain": [
       "3"
      ]
     },
     "metadata": {},
     "output_type": "display_data"
    }
   ],
   "source": [
    "sort oddList !! 2"
   ]
  },
  {
   "cell_type": "code",
   "execution_count": 42,
   "id": "8058e277-6baf-4b15-a829-9bdaa608c464",
   "metadata": {},
   "outputs": [
    {
     "data": {
      "text/plain": [
       "3"
      ]
     },
     "metadata": {},
     "output_type": "display_data"
    }
   ],
   "source": [
    "length evenList `div` 2"
   ]
  },
  {
   "cell_type": "code",
   "execution_count": 43,
   "id": "990eec4b-faf8-4581-aeb9-7fe2e73082e1",
   "metadata": {},
   "outputs": [
    {
     "data": {
      "text/plain": [
       "3.5"
      ]
     },
     "metadata": {},
     "output_type": "display_data"
    }
   ],
   "source": [
    "((sort evenList !! 3) + (sort evenList !! 2)) / 2"
   ]
  },
  {
   "cell_type": "code",
   "execution_count": 44,
   "id": "1175edc7-87be-4bfd-818d-bc33d959b592",
   "metadata": {},
   "outputs": [],
   "source": [
    "median :: Real a => [a] -> Maybe Double\n",
    "median [] = Nothing\n",
    "median list\n",
    "    | odd (length list) = Just middleValue\n",
    "    | otherwise = Just middleEven\n",
    "    where\n",
    "        sorted = sort list\n",
    "        middleIndex = length list `div` 2\n",
    "        middleValue = realToFrac $ sorted !! middleIndex\n",
    "        beforeMiddle = realToFrac $ sorted !! (middleIndex -1)\n",
    "        middleEven = 0.5 * (middleValue + beforeMiddle)"
   ]
  },
  {
   "cell_type": "code",
   "execution_count": 45,
   "id": "a9305ae2-4977-416d-bb4a-77a71faffc2e",
   "metadata": {},
   "outputs": [
    {
     "data": {
      "text/plain": [
       "Nothing"
      ]
     },
     "metadata": {},
     "output_type": "display_data"
    }
   ],
   "source": [
    "median []"
   ]
  },
  {
   "cell_type": "code",
   "execution_count": 46,
   "id": "c23e2445-a789-40c2-b20e-1442ab77c927",
   "metadata": {},
   "outputs": [
    {
     "data": {
      "text/plain": [
       "Just 3.0"
      ]
     },
     "metadata": {},
     "output_type": "display_data"
    }
   ],
   "source": [
    "median oddList"
   ]
  },
  {
   "cell_type": "code",
   "execution_count": 47,
   "id": "31d492f1-6b45-42f8-a8f1-229a42c16c87",
   "metadata": {},
   "outputs": [
    {
     "data": {
      "text/plain": [
       "Just 3.5"
      ]
     },
     "metadata": {},
     "output_type": "display_data"
    }
   ],
   "source": [
    "median evenList"
   ]
  },
  {
   "cell_type": "code",
   "execution_count": 48,
   "id": "fe0da92d-5108-4120-b339-0b0b22bc7c01",
   "metadata": {},
   "outputs": [
    {
     "data": {
      "text/plain": [
       "Just 4.0"
      ]
     },
     "metadata": {},
     "output_type": "display_data"
    }
   ],
   "source": [
    "median awayRuns"
   ]
  },
  {
   "cell_type": "markdown",
   "id": "91c8af96-565d-4054-a4df-47dede970afc",
   "metadata": {},
   "source": [
    "### Mode"
   ]
  },
  {
   "cell_type": "markdown",
   "id": "88172108-9e56-468c-968a-621048880f38",
   "metadata": {},
   "source": [
    "The value in the list which appears most frequently."
   ]
  },
  {
   "cell_type": "code",
   "execution_count": 50,
   "id": "f36dcfbf-134b-4478-9730-03911648ba13",
   "metadata": {},
   "outputs": [],
   "source": [
    "myList = [4,4,5,5,4]"
   ]
  },
  {
   "cell_type": "code",
   "execution_count": 51,
   "id": "3628d64e-122e-4b7f-b4e8-4e2a3fe9ed2b",
   "metadata": {},
   "outputs": [
    {
     "data": {
      "text/plain": [
       "[[4,4],[5,5],[4]]"
      ]
     },
     "metadata": {},
     "output_type": "display_data"
    }
   ],
   "source": [
    "group myList"
   ]
  },
  {
   "cell_type": "code",
   "execution_count": 54,
   "id": "e8eaa15b-6516-4ad9-a619-1749910ce0da",
   "metadata": {},
   "outputs": [],
   "source": [
    "runLengthEncoding :: Ord a => [a] -> [(a, Integer)]\n",
    "runLengthEncoding = map (\\xs -> (head xs, genericLength xs)) . group"
   ]
  },
  {
   "cell_type": "code",
   "execution_count": 55,
   "id": "4f2c3d8b-efbf-4cec-8378-bb747f0d4041",
   "metadata": {},
   "outputs": [
    {
     "data": {
      "text/plain": [
       "[(4,2),(5,2),(4,1)]"
      ]
     },
     "metadata": {},
     "output_type": "display_data"
    }
   ],
   "source": [
    "runLengthEncoding myList"
   ]
  },
  {
   "cell_type": "code",
   "execution_count": 58,
   "id": "44fa6dce-b4ba-47cb-86bb-d6d56a781542",
   "metadata": {},
   "outputs": [
    {
     "data": {
      "text/plain": [
       "[(4,3),(5,2)]"
      ]
     },
     "metadata": {},
     "output_type": "display_data"
    }
   ],
   "source": [
    "runLengthEncoding (sort myList)"
   ]
  },
  {
   "cell_type": "code",
   "execution_count": 59,
   "id": "731c16e5-18e2-4988-8c67-ac8b0d6fbfb7",
   "metadata": {},
   "outputs": [],
   "source": [
    "mode :: Ord a => [a] -> Maybe (a, Integer)\n",
    "mode [] = Nothing\n",
    "mode list = Just $ maximumBy (comparing snd) pairs\n",
    "    where\n",
    "        sorted = sort list\n",
    "        pairs = runLengthEncoding sorted"
   ]
  },
  {
   "cell_type": "code",
   "execution_count": 60,
   "id": "5ea5cc6b-dea8-4316-8abd-3700d3aeff8f",
   "metadata": {},
   "outputs": [
    {
     "data": {
      "text/plain": [
       "Nothing"
      ]
     },
     "metadata": {},
     "output_type": "display_data"
    }
   ],
   "source": [
    "mode []"
   ]
  },
  {
   "cell_type": "code",
   "execution_count": 61,
   "id": "5c6e6233-0ca3-477d-ab95-be786ab29e00",
   "metadata": {},
   "outputs": [
    {
     "data": {
      "text/plain": [
       "Just (4,3)"
      ]
     },
     "metadata": {},
     "output_type": "display_data"
    }
   ],
   "source": [
    "mode myList"
   ]
  },
  {
   "cell_type": "code",
   "execution_count": 62,
   "id": "771b7503-11eb-4469-a3d3-5dcbb4e390af",
   "metadata": {},
   "outputs": [
    {
     "data": {
      "text/plain": [
       "Just (3,334)"
      ]
     },
     "metadata": {},
     "output_type": "display_data"
    }
   ],
   "source": [
    "mode awayRuns"
   ]
  }
 ],
 "metadata": {
  "kernelspec": {
   "display_name": "Haskell",
   "language": "haskell",
   "name": "haskell"
  },
  "language_info": {
   "codemirror_mode": "ihaskell",
   "file_extension": ".hs",
   "mimetype": "text/x-haskell",
   "name": "haskell",
   "pygments_lexer": "Haskell",
   "version": "9.4.5"
  }
 },
 "nbformat": 4,
 "nbformat_minor": 5
}
