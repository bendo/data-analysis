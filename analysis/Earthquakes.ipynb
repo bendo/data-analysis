{
 "cells": [
  {
   "cell_type": "code",
   "execution_count": 1,
   "id": "0c9a8b4b-cc38-406d-a0aa-f0fbd3a99b7e",
   "metadata": {},
   "outputs": [
    {
     "data": {
      "text/plain": [
       "\u001b[0mCabal file warning in /opt/IHaskell/ihaskell-display/ihaskell-aeson/ihaskell-aeson.cabal@46:28: Packages with 'cabal-version: 1.12' or later should specify a specific version of the Cabal spec of the form 'cabal-version: x.y'. Use 'cabal-version: 1.16'.\u001b[0m\n",
       "\u001b[0mCabal file warning in /opt/IHaskell/ihaskell-display/ihaskell-blaze/ihaskell-blaze.cabal@49:28: Packages with 'cabal-version: 1.12' or later should specify a specific version of the Cabal spec of the form 'cabal-version: x.y'. Use 'cabal-version: 1.16'.\u001b[0m\n",
       "\u001b[0mCabal file warning in /opt/IHaskell/ihaskell-display/ihaskell-charts/ihaskell-charts.cabal@46:28: Packages with 'cabal-version: 1.12' or later should specify a specific version of the Cabal spec of the form 'cabal-version: x.y'. Use 'cabal-version: 1.16'.\u001b[0m\n",
       "\u001b[0mCabal file warning in /opt/IHaskell/ihaskell-display/ihaskell-diagrams/ihaskell-diagrams.cabal@46:28: Packages with 'cabal-version: 1.12' or later should specify a specific version of the Cabal spec of the form 'cabal-version: x.y'. Use 'cabal-version: 1.16'.\u001b[0m\n",
       "\u001b[0mCabal file warning in /opt/IHaskell/ihaskell-display/ihaskell-gnuplot/ihaskell-gnuplot.cabal@47:28: Packages with 'cabal-version: 1.12' or later should specify a specific version of the Cabal spec of the form 'cabal-version: x.y'. Use 'cabal-version: 1.16'.\u001b[0m\n",
       "\u001b[0mCabal file warning in /opt/IHaskell/ihaskell-display/ihaskell-graphviz/ihaskell-graphviz.cabal@48:28: Packages with 'cabal-version: 1.12' or later should specify a specific version of the Cabal spec of the form 'cabal-version: x.y'. Use 'cabal-version: 1.16'.\u001b[0m\n",
       "\u001b[0mCabal file warning in /opt/IHaskell/ihaskell-display/ihaskell-hatex/ihaskell-hatex.cabal@12:28: Packages with 'cabal-version: 1.12' or later should specify a specific version of the Cabal spec of the form 'cabal-version: x.y'. Use 'cabal-version: 1.16'.\u001b[0m\n",
       "\u001b[0mCabal file warning in /opt/IHaskell/ihaskell-display/ihaskell-juicypixels/ihaskell-juicypixels.cabal@52:28: Packages with 'cabal-version: 1.12' or later should specify a specific version of the Cabal spec of the form 'cabal-version: x.y'. Use 'cabal-version: 1.16'.\u001b[0m\n",
       "\u001b[0mCabal file warning in /opt/IHaskell/ihaskell-display/ihaskell-magic/ihaskell-magic.cabal@49:28: Packages with 'cabal-version: 1.12' or later should specify a specific version of the Cabal spec of the form 'cabal-version: x.y'. Use 'cabal-version: 1.16'.\u001b[0m\n",
       "\u001b[0mCabal file warning in /opt/IHaskell/ihaskell-display/ihaskell-plot/ihaskell-plot.cabal@47:28: Packages with 'cabal-version: 1.12' or later should specify a specific version of the Cabal spec of the form 'cabal-version: x.y'. Use 'cabal-version: 1.16'.\u001b[0m"
      ]
     },
     "metadata": {},
     "output_type": "display_data"
    }
   ],
   "source": [
    ":! stack build sqlite-simple"
   ]
  },
  {
   "cell_type": "code",
   "execution_count": 2,
   "id": "8faca840-6db9-4b50-bedf-7d0ce6099e4c",
   "metadata": {},
   "outputs": [],
   "source": [
    ":load DescriptiveStats"
   ]
  },
  {
   "cell_type": "code",
   "execution_count": 3,
   "id": "59324abe-71fd-49b1-b121-4f8623583358",
   "metadata": {},
   "outputs": [],
   "source": [
    "{-# LANGUAGE OverloadedStrings #-}\n",
    "{-# LANGUAGE ScopedTypeVariables #-}"
   ]
  },
  {
   "cell_type": "code",
   "execution_count": 4,
   "id": "5537b70c-40b3-4a57-b87e-2a6ad8979721",
   "metadata": {},
   "outputs": [],
   "source": [
    "import Database.SQLite.Simple\n",
    "import Data.List\n",
    "import qualified Data.Text as T\n",
    "import DescriptiveStats"
   ]
  },
  {
   "cell_type": "code",
   "execution_count": 5,
   "id": "f1715d2a-413f-45a5-853d-fe4b7d5cb802",
   "metadata": {},
   "outputs": [],
   "source": [
    "--data Earthquake = Earthquake T.Text Float Float Float Float deriving Show\n",
    "data Earthquake = Earthquake {timestamp :: T.Text, latitude :: Float, longitude :: Float, depth :: Float, mag :: Float} deriving Show"
   ]
  },
  {
   "cell_type": "code",
   "execution_count": 6,
   "id": "b39c0163-a002-4631-9e8c-90d4f9a14277",
   "metadata": {},
   "outputs": [],
   "source": [
    "instance FromRow Earthquake where\n",
    "    fromRow = Earthquake <$> field <*> field <*> field <*> field <*> field"
   ]
  },
  {
   "cell_type": "code",
   "execution_count": 7,
   "id": "28e39677-98e2-47c8-a4b8-c4a81224669d",
   "metadata": {},
   "outputs": [],
   "source": [
    "conn <- open $ \"../data/usgs.db\""
   ]
  },
  {
   "cell_type": "code",
   "execution_count": 8,
   "id": "d7c17c92-8ec4-4aeb-af66-9b7d33847929",
   "metadata": {},
   "outputs": [],
   "source": [
    "records <- query conn \"SELECT * FROM earthquakes LIMIT ?\" (Only 5) :: IO [Earthquake]"
   ]
  },
  {
   "cell_type": "code",
   "execution_count": 9,
   "id": "e553a7de-ea4c-4aab-96ef-952911c69992",
   "metadata": {},
   "outputs": [
    {
     "data": {
      "text/plain": [
       "[Earthquake {timestamp = \"2024-07-07T10:35:25.753Z\", latitude = 59.1492, longitude = -152.5177, depth = 61.5, mag = 2.0},Earthquake {timestamp = \"2024-07-07T10:32:23.590Z\", latitude = 19.370167, longitude = -155.20816, depth = 2.05, mag = 1.9},Earthquake {timestamp = \"2024-07-07T10:28:29.680Z\", latitude = 35.865166, longitude = -117.686, depth = 9.33, mag = 0.91},Earthquake {timestamp = \"2024-07-07T10:28:11.510Z\", latitude = 38.781666, longitude = -122.742836, depth = 0.91, mag = 0.74},Earthquake {timestamp = \"2024-07-07T10:10:06.720Z\", latitude = 19.3745, longitude = -155.20833, depth = 1.63, mag = 2.49}]"
      ]
     },
     "metadata": {},
     "output_type": "display_data"
    }
   ],
   "source": [
    "records"
   ]
  },
  {
   "cell_type": "code",
   "execution_count": 10,
   "id": "447852a6-528a-48d2-b616-30dd7a484a06",
   "metadata": {},
   "outputs": [
    {
     "data": {
      "text/plain": [
       "5"
      ]
     },
     "metadata": {},
     "output_type": "display_data"
    }
   ],
   "source": [
    "length records"
   ]
  },
  {
   "cell_type": "code",
   "execution_count": 11,
   "id": "8c09d4b7-bbaa-423d-8a6e-6171cec775ed",
   "metadata": {},
   "outputs": [],
   "source": [
    "--timestamp (Earthquake timestamp _ _ _ _) = timestamp"
   ]
  },
  {
   "cell_type": "code",
   "execution_count": 12,
   "id": "c1b8db44-9d08-4020-95f5-0d989d8a2c1e",
   "metadata": {},
   "outputs": [
    {
     "data": {
      "text/plain": [
       "[61.5,2.05,9.33,0.91,1.63]"
      ]
     },
     "metadata": {},
     "output_type": "display_data"
    }
   ],
   "source": [
    "map depth records"
   ]
  },
  {
   "cell_type": "code",
   "execution_count": 13,
   "id": "6d5635c2-0fdd-4c69-938b-fbf960b6cd5b",
   "metadata": {},
   "outputs": [],
   "source": [
    "northern <- query conn \"SELECT * FROM earthquakes WHERE latitude > 0\" () :: IO [Earthquake]"
   ]
  },
  {
   "cell_type": "code",
   "execution_count": 14,
   "id": "115de9fc-7337-409b-a18a-67912932c8a8",
   "metadata": {},
   "outputs": [
    {
     "data": {
      "text/plain": [
       "9518"
      ]
     },
     "metadata": {},
     "output_type": "display_data"
    }
   ],
   "source": [
    "length northern"
   ]
  },
  {
   "cell_type": "code",
   "execution_count": 15,
   "id": "b39e0be3-12e5-4b7d-8505-914aa6905864",
   "metadata": {},
   "outputs": [],
   "source": [
    "southern <- query conn \"SELECT * FROM earthquakes WHERE latitude < 0\" () :: IO [Earthquake]"
   ]
  },
  {
   "cell_type": "code",
   "execution_count": 16,
   "id": "2630dac2-7771-4594-b9bc-6695c048a9ee",
   "metadata": {},
   "outputs": [
    {
     "data": {
      "text/plain": [
       "421"
      ]
     },
     "metadata": {},
     "output_type": "display_data"
    }
   ],
   "source": [
    "length southern"
   ]
  },
  {
   "cell_type": "code",
   "execution_count": 17,
   "id": "2be6a006-be73-4138-a226-5425f7cc3171",
   "metadata": {},
   "outputs": [],
   "source": [
    "northwest <- query conn \"SELECT * FROM earthquakes WHERE latitude > 0 AND longitude < 0\" () :: IO [Earthquake]"
   ]
  },
  {
   "cell_type": "code",
   "execution_count": 18,
   "id": "1d6983d1-e8c2-41c5-97ae-da43092e8469",
   "metadata": {},
   "outputs": [
    {
     "data": {
      "text/plain": [
       "9048"
      ]
     },
     "metadata": {},
     "output_type": "display_data"
    }
   ],
   "source": [
    "length northwest"
   ]
  },
  {
   "cell_type": "code",
   "execution_count": 19,
   "id": "f0bee908-201d-4d39-bb00-5ee5c026a2d3",
   "metadata": {},
   "outputs": [],
   "source": [
    "southwest <- query conn \"SELECT * FROM earthquakes WHERE latitude < 0 AND longitude < 0\" () :: IO [Earthquake]"
   ]
  },
  {
   "cell_type": "code",
   "execution_count": 20,
   "id": "27e447a4-b3f0-4633-bb9a-3d8ed3dfdc79",
   "metadata": {},
   "outputs": [
    {
     "data": {
      "text/plain": [
       "230"
      ]
     },
     "metadata": {},
     "output_type": "display_data"
    }
   ],
   "source": [
    "length southwest"
   ]
  },
  {
   "cell_type": "code",
   "execution_count": 21,
   "id": "9eb7987c-6960-471b-be95-ddb83916eb4c",
   "metadata": {},
   "outputs": [
    {
     "data": {
      "text/plain": [
       "[32.258,200.954,55.144,132.609,107.598,197.677,19.115,540.374,116.07,10.0,10.0,10.0,16.772,93.864,490.432,10.0,519.163,104.182,620.597,41.509,115.027,235.212,147.752,10.0,10.0,130.681,35.0,10.0,126.236,129.094,10.693,13.144,169.832,10.0,10.0,556.024,52.923,19.32,423.653,178.355,43.529,180.598,10.0,10.0,20.737,10.0,27.515,27.985,175.637,539.082,38.064,32.25,35.0,106.79,601.089,116.129,59.458,65.736,10.0,529.082,35.538,89.064,10.0,34.898,95.259,547.969,10.0,10.0,10.0,10.0,219.72,10.0,588.529,10.0,10.0,132.162,245.737,29.259,228.921,226.804,141.457,168.103,117.421,10.0,31.2,533.433,10.0,94.087,477.204,107.314,10.0,103.712,537.279,163.681,364.812,10.0,10.0,539.985,47.732,70.433,575.029,10.0,133.306,122.928,15.779,53.481,42.092,208.116,144.004,115.856,11.416,70.786,92.759,100.162,496.526,111.301,118.7,10.0,10.0,140.291,241.01,165.864,35.0,10.0,138.768,116.342,13.734,47.065,10.0,23.344,567.87,485.702,42.307,77.672,10.27,488.769,260.905,510.464,103.127,13.505,191.125,108.943,10.0,28.315,191.448,139.189,10.0,10.0,10.0,10.0,561.021,10.0,144.277,589.958,10.0,124.612,10.0,168.11,10.0,188.296,552.674,23.823,49.219,123.269,579.184,10.0,10.0,188.425,10.0,35.0,263.169,10.0,583.388,587.38,572.307,564.108,113.896,10.0,535.136,117.083,548.156,506.359,598.769,10.0,10.0,108.79,222.148,10.0,66.402,10.0,10.0,112.631,10.0,123.327,10.0,10.0,10.0,10.0,10.0,10.0,10.0,10.0,16.507,10.0,163.057,60.586,123.204,10.0,542.739,403.077,137.603,34.134,527.383,153.35,18.425,97.743,26.324,102.538,559.267,80.513,35.0,10.0,10.0,35.0,198.717,18.685,559.529,10.0,10.0,47.433]"
      ]
     },
     "metadata": {},
     "output_type": "display_data"
    }
   ],
   "source": [
    "map depth southwest"
   ]
  },
  {
   "cell_type": "code",
   "execution_count": 22,
   "id": "5ae22491-ea07-45d3-8d35-0472ffddb3fe",
   "metadata": {},
   "outputs": [
    {
     "data": {
      "text/plain": [
       "[4.4,4.3,4.3,4.4,4.8,4.9,4.5,4.4,4.1,5.1,5.0,5.2,4.0,5.3,4.3,5.2,4.4,4.1,4.5,4.5,4.5,4.0,4.2,5.1,4.8,4.5,4.3,4.3,4.5,4.6,4.3,4.6,4.4,4.5,4.4,4.5,5.3,6.1,4.5,4.2,5.2,4.4,4.6,5.7,4.4,5.0,4.7,7.2,4.3,4.4,4.5,5.9,4.5,4.8,4.5,4.5,4.4,4.6,4.5,4.7,4.9,4.8,4.6,4.1,4.2,4.8,5.0,5.1,5.0,4.6,4.6,4.6,5.1,4.8,4.6,4.1,4.1,5.1,4.4,4.3,4.6,4.5,5.0,5.0,4.6,4.3,5.2,4.4,4.2,4.2,4.5,4.2,4.4,4.4,4.8,4.4,4.6,4.6,4.3,4.4,4.2,4.8,4.2,4.3,5.7,4.5,4.5,4.4,4.6,4.7,4.3,5.2,5.8,5.5,4.2,4.1,4.3,5.6,4.5,4.2,4.3,4.2,4.2,4.5,4.1,4.4,4.5,4.5,4.6,6.0,4.8,4.7,4.3,4.6,4.5,4.4,4.2,4.1,4.2,5.4,4.5,4.5,4.3,4.7,4.5,4.2,4.2,5.9,5.4,5.3,4.2,6.0,4.8,4.2,5.0,5.1,4.5,4.5,5.0,4.1,4.4,4.1,4.5,4.3,4.3,4.4,4.6,4.7,5.2,4.2,4.5,4.7,4.8,4.7,4.2,4.7,4.7,5.1,4.2,4.0,4.3,4.1,4.2,4.4,4.7,4.3,4.3,4.7,4.2,4.5,4.4,4.2,4.4,4.4,4.8,5.0,4.9,4.8,5.1,6.2,4.6,5.3,5.0,4.4,4.2,4.5,4.3,4.7,4.6,4.3,4.2,4.8,4.0,4.4,3.9,4.3,4.3,4.8,4.1,4.6,4.8,4.3,4.3,4.3,5.1,4.2,4.1,5.4,5.4,4.6]"
      ]
     },
     "metadata": {},
     "output_type": "display_data"
    }
   ],
   "source": [
    "map mag southwest"
   ]
  },
  {
   "cell_type": "code",
   "execution_count": 23,
   "id": "2e85c416-8cc4-4a96-b9a2-2126c528424f",
   "metadata": {},
   "outputs": [],
   "source": [
    "southwest <- query conn \"SELECT * FROM earthquakes WHERE latitude < 0 AND longitude < 0 ORDER BY magnitude\" () :: IO [Earthquake]"
   ]
  },
  {
   "cell_type": "code",
   "execution_count": 24,
   "id": "cfd538af-195c-44fb-8612-7e897b61910e",
   "metadata": {},
   "outputs": [
    {
     "data": {
      "text/plain": [
       "[3.9,4.0,4.0,4.0,4.0,4.1,4.1,4.1,4.1,4.1,4.1,4.1,4.1,4.1,4.1,4.1,4.1,4.1,4.2,4.2,4.2,4.2,4.2,4.2,4.2,4.2,4.2,4.2,4.2,4.2,4.2,4.2,4.2,4.2,4.2,4.2,4.2,4.2,4.2,4.2,4.2,4.2,4.2,4.2,4.2,4.3,4.3,4.3,4.3,4.3,4.3,4.3,4.3,4.3,4.3,4.3,4.3,4.3,4.3,4.3,4.3,4.3,4.3,4.3,4.3,4.3,4.3,4.3,4.3,4.3,4.3,4.3,4.3,4.4,4.4,4.4,4.4,4.4,4.4,4.4,4.4,4.4,4.4,4.4,4.4,4.4,4.4,4.4,4.4,4.4,4.4,4.4,4.4,4.4,4.4,4.4,4.4,4.4,4.4,4.4,4.5,4.5,4.5,4.5,4.5,4.5,4.5,4.5,4.5,4.5,4.5,4.5,4.5,4.5,4.5,4.5,4.5,4.5,4.5,4.5,4.5,4.5,4.5,4.5,4.5,4.5,4.5,4.5,4.5,4.5,4.5,4.5,4.6,4.6,4.6,4.6,4.6,4.6,4.6,4.6,4.6,4.6,4.6,4.6,4.6,4.6,4.6,4.6,4.6,4.6,4.6,4.6,4.6,4.7,4.7,4.7,4.7,4.7,4.7,4.7,4.7,4.7,4.7,4.7,4.7,4.7,4.8,4.8,4.8,4.8,4.8,4.8,4.8,4.8,4.8,4.8,4.8,4.8,4.8,4.8,4.8,4.8,4.9,4.9,4.9,5.0,5.0,5.0,5.0,5.0,5.0,5.0,5.0,5.0,5.0,5.1,5.1,5.1,5.1,5.1,5.1,5.1,5.1,5.1,5.2,5.2,5.2,5.2,5.2,5.2,5.3,5.3,5.3,5.3,5.4,5.4,5.4,5.4,5.5,5.6,5.7,5.7,5.8,5.9,5.9,6.0,6.0,6.1,6.2,7.2]"
      ]
     },
     "metadata": {},
     "output_type": "display_data"
    }
   ],
   "source": [
    "map mag southwest"
   ]
  },
  {
   "cell_type": "code",
   "execution_count": 25,
   "id": "feee31b4-36e7-4353-a19a-ae2b60cfd12d",
   "metadata": {},
   "outputs": [],
   "source": [
    "southwest <- query conn \"SELECT * FROM earthquakes WHERE latitude < 0 AND longitude < 0 ORDER BY magnitude LIMIT 5\" () :: IO [Earthquake]"
   ]
  },
  {
   "cell_type": "code",
   "execution_count": 26,
   "id": "fc15469b-3ebd-4c52-ba83-6939035431fb",
   "metadata": {},
   "outputs": [
    {
     "data": {
      "text/plain": [
       "[3.9,4.0,4.0,4.0,4.0]"
      ]
     },
     "metadata": {},
     "output_type": "display_data"
    }
   ],
   "source": [
    "map mag southwest"
   ]
  },
  {
   "cell_type": "code",
   "execution_count": 27,
   "id": "2db2e618-5f5c-4ef0-86f4-3f7f90cf2ce5",
   "metadata": {},
   "outputs": [],
   "source": [
    "southwest <- query conn \"SELECT * FROM earthquakes WHERE latitude < 0 AND longitude < 0 ORDER BY magnitude DESC LIMIT 5\" () :: IO [Earthquake]"
   ]
  },
  {
   "cell_type": "code",
   "execution_count": 28,
   "id": "cf1bc56b-9a56-4176-bfa6-cedd71cc4e8c",
   "metadata": {},
   "outputs": [
    {
     "data": {
      "text/plain": [
       "[7.2,6.2,6.1,6.0,6.0]"
      ]
     },
     "metadata": {},
     "output_type": "display_data"
    }
   ],
   "source": [
    "map mag southwest"
   ]
  },
  {
   "cell_type": "code",
   "execution_count": 29,
   "id": "21e3495a-37f5-4ae3-9a30-bceb07daa175",
   "metadata": {},
   "outputs": [],
   "source": [
    "oklahoma <- query conn \"SELECT * FROM earthquakes WHERE latitude > 33.5 AND latitude < 37 AND longitude < 94.3 AND longitude > -100 AND magnitude IS NOT ''\" () :: IO [Earthquake]"
   ]
  },
  {
   "cell_type": "code",
   "execution_count": 30,
   "id": "d5524513-eaaf-4206-a5e1-8ce9341123d0",
   "metadata": {},
   "outputs": [
    {
     "data": {
      "text/plain": [
       "309"
      ]
     },
     "metadata": {},
     "output_type": "display_data"
    }
   ],
   "source": [
    "length oklahoma"
   ]
  },
  {
   "cell_type": "code",
   "execution_count": 31,
   "id": "e433653b-7817-43bf-a093-c6a84582b9fa",
   "metadata": {},
   "outputs": [],
   "source": [
    "notoklahoma <- query conn \"SELECT * FROM earthquakes WHERE NOT(latitude > 33.5 AND latitude < 37 AND longitude < 94.3 AND longitude > -100) AND magnitude IS NOT ''\" () :: IO [Earthquake]"
   ]
  },
  {
   "cell_type": "code",
   "execution_count": 32,
   "id": "4ec0369a-0aae-4a3a-a13e-cef527895144",
   "metadata": {},
   "outputs": [
    {
     "data": {
      "text/plain": [
       "9630"
      ]
     },
     "metadata": {},
     "output_type": "display_data"
    }
   ],
   "source": [
    "length notoklahoma"
   ]
  },
  {
   "cell_type": "code",
   "execution_count": 33,
   "id": "afaa7f05-1356-43e8-803b-bd5d7c750825",
   "metadata": {},
   "outputs": [],
   "source": [
    "okmag = map mag oklahoma"
   ]
  },
  {
   "cell_type": "code",
   "execution_count": 34,
   "id": "7cbc26e4-ceab-47a9-9430-ddc520f4932e",
   "metadata": {},
   "outputs": [],
   "source": [
    "notokmag = map mag notoklahoma"
   ]
  },
  {
   "cell_type": "code",
   "execution_count": 35,
   "id": "ef336407-94e3-4a5b-96b4-5102c27635a4",
   "metadata": {},
   "outputs": [
    {
     "data": {
      "text/plain": [
       "Just 1.7364089126340008"
      ]
     },
     "metadata": {},
     "output_type": "display_data"
    }
   ],
   "source": [
    "mean okmag"
   ]
  },
  {
   "cell_type": "code",
   "execution_count": 36,
   "id": "c611f6aa-8491-42c1-9855-ee5b640f7767",
   "metadata": {},
   "outputs": [
    {
     "data": {
      "text/plain": [
       "Just 1.4814289857541536"
      ]
     },
     "metadata": {},
     "output_type": "display_data"
    }
   ],
   "source": [
    "mean notokmag"
   ]
  },
  {
   "cell_type": "code",
   "execution_count": 37,
   "id": "bb7e167e-664e-4aa7-8ebb-4e68d487d975",
   "metadata": {},
   "outputs": [
    {
     "data": {
      "text/plain": [
       "Just 1.4500000476837158"
      ]
     },
     "metadata": {},
     "output_type": "display_data"
    }
   ],
   "source": [
    "median okmag"
   ]
  },
  {
   "cell_type": "code",
   "execution_count": 39,
   "id": "7f582e8e-4b48-49ad-9ba5-58880d56b718",
   "metadata": {},
   "outputs": [
    {
     "data": {
      "text/plain": [
       "Just 1.2899999618530273"
      ]
     },
     "metadata": {},
     "output_type": "display_data"
    }
   ],
   "source": [
    "median notokmag"
   ]
  },
  {
   "cell_type": "code",
   "execution_count": 40,
   "id": "b6fce40d-3b8e-4157-bc95-efab75a03f4a",
   "metadata": {},
   "outputs": [
    {
     "data": {
      "text/plain": [
       "Just 1.003373719301055"
      ]
     },
     "metadata": {},
     "output_type": "display_data"
    }
   ],
   "source": [
    "stdev okmag"
   ]
  },
  {
   "cell_type": "code",
   "execution_count": 41,
   "id": "329594cd-921b-48fc-bfe3-694fbc7a3470",
   "metadata": {},
   "outputs": [
    {
     "data": {
      "text/plain": [
       "Just 1.1938588717013165"
      ]
     },
     "metadata": {},
     "output_type": "display_data"
    }
   ],
   "source": [
    "stdev notokmag"
   ]
  },
  {
   "cell_type": "code",
   "execution_count": 42,
   "id": "086116fb-1c41-4c77-9170-3cff161b1527",
   "metadata": {},
   "outputs": [
    {
     "data": {
      "text/plain": [
       "Just (1.38,7)"
      ]
     },
     "metadata": {},
     "output_type": "display_data"
    }
   ],
   "source": [
    "mode okmag"
   ]
  },
  {
   "cell_type": "code",
   "execution_count": 43,
   "id": "d992470a-88ac-42e9-9f2e-427a64f4f75f",
   "metadata": {},
   "outputs": [
    {
     "data": {
      "text/plain": [
       "Just (1.6,225)"
      ]
     },
     "metadata": {},
     "output_type": "display_data"
    }
   ],
   "source": [
    "mode notokmag"
   ]
  }
 ],
 "metadata": {
  "kernelspec": {
   "display_name": "Haskell",
   "language": "haskell",
   "name": "haskell"
  },
  "language_info": {
   "codemirror_mode": "ihaskell",
   "file_extension": ".hs",
   "mimetype": "text/x-haskell",
   "name": "haskell",
   "pygments_lexer": "Haskell",
   "version": "9.4.5"
  }
 },
 "nbformat": 4,
 "nbformat_minor": 5
}
