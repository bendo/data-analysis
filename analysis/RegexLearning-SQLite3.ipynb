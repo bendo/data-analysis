{
 "cells": [
  {
   "cell_type": "code",
   "execution_count": 1,
   "id": "09d248b2-8dee-4e2e-a8a5-55f3d3c7f880",
   "metadata": {},
   "outputs": [
    {
     "data": {
      "text/plain": [
       "\u001b[0mCabal file warning in /opt/IHaskell/ihaskell-display/ihaskell-aeson/ihaskell-aeson.cabal@46:28: Packages with 'cabal-version: 1.12' or later should specify a specific version of the Cabal spec of the form 'cabal-version: x.y'. Use 'cabal-version: 1.16'.\u001b[0m\n",
       "\u001b[0mCabal file warning in /opt/IHaskell/ihaskell-display/ihaskell-blaze/ihaskell-blaze.cabal@49:28: Packages with 'cabal-version: 1.12' or later should specify a specific version of the Cabal spec of the form 'cabal-version: x.y'. Use 'cabal-version: 1.16'.\u001b[0m\n",
       "\u001b[0mCabal file warning in /opt/IHaskell/ihaskell-display/ihaskell-charts/ihaskell-charts.cabal@46:28: Packages with 'cabal-version: 1.12' or later should specify a specific version of the Cabal spec of the form 'cabal-version: x.y'. Use 'cabal-version: 1.16'.\u001b[0m\n",
       "\u001b[0mCabal file warning in /opt/IHaskell/ihaskell-display/ihaskell-diagrams/ihaskell-diagrams.cabal@46:28: Packages with 'cabal-version: 1.12' or later should specify a specific version of the Cabal spec of the form 'cabal-version: x.y'. Use 'cabal-version: 1.16'.\u001b[0m\n",
       "\u001b[0mCabal file warning in /opt/IHaskell/ihaskell-display/ihaskell-gnuplot/ihaskell-gnuplot.cabal@47:28: Packages with 'cabal-version: 1.12' or later should specify a specific version of the Cabal spec of the form 'cabal-version: x.y'. Use 'cabal-version: 1.16'.\u001b[0m\n",
       "\u001b[0mCabal file warning in /opt/IHaskell/ihaskell-display/ihaskell-graphviz/ihaskell-graphviz.cabal@48:28: Packages with 'cabal-version: 1.12' or later should specify a specific version of the Cabal spec of the form 'cabal-version: x.y'. Use 'cabal-version: 1.16'.\u001b[0m\n",
       "\u001b[0mCabal file warning in /opt/IHaskell/ihaskell-display/ihaskell-hatex/ihaskell-hatex.cabal@12:28: Packages with 'cabal-version: 1.12' or later should specify a specific version of the Cabal spec of the form 'cabal-version: x.y'. Use 'cabal-version: 1.16'.\u001b[0m\n",
       "\u001b[0mCabal file warning in /opt/IHaskell/ihaskell-display/ihaskell-juicypixels/ihaskell-juicypixels.cabal@52:28: Packages with 'cabal-version: 1.12' or later should specify a specific version of the Cabal spec of the form 'cabal-version: x.y'. Use 'cabal-version: 1.16'.\u001b[0m\n",
       "\u001b[0mCabal file warning in /opt/IHaskell/ihaskell-display/ihaskell-magic/ihaskell-magic.cabal@49:28: Packages with 'cabal-version: 1.12' or later should specify a specific version of the Cabal spec of the form 'cabal-version: x.y'. Use 'cabal-version: 1.16'.\u001b[0m\n",
       "\u001b[0mCabal file warning in /opt/IHaskell/ihaskell-display/ihaskell-plot/ihaskell-plot.cabal@47:28: Packages with 'cabal-version: 1.12' or later should specify a specific version of the Cabal spec of the form 'cabal-version: x.y'. Use 'cabal-version: 1.16'.\u001b[0m"
      ]
     },
     "metadata": {},
     "output_type": "display_data"
    }
   ],
   "source": [
    ":! stack build sqlite-simple"
   ]
  },
  {
   "cell_type": "code",
   "execution_count": 2,
   "id": "27172702-de96-4ad5-b585-3bf7275d2149",
   "metadata": {},
   "outputs": [],
   "source": [
    "{-# LANGUAGE OverloadedStrings #-}\n",
    "{-# LANGUAGE ScopedTypeVariables #-}"
   ]
  },
  {
   "cell_type": "code",
   "execution_count": 3,
   "id": "1b5d3d0d-0736-40ee-b7d3-304a1c05743b",
   "metadata": {},
   "outputs": [],
   "source": [
    "import Database.SQLite.Simple\n",
    "import Data.List\n",
    "import qualified Data.Text as T\n",
    "import Text.Printf\n",
    "import Text.Regex.Posix"
   ]
  },
  {
   "cell_type": "code",
   "execution_count": 4,
   "id": "cc8a1026-bd31-4af9-847d-0b99749b9638",
   "metadata": {},
   "outputs": [],
   "source": [
    "data Earthquake = Earthquake {timestamp :: T.Text, latitude :: Float, longitude :: Float, depth :: Float, mag :: Float} deriving Show"
   ]
  },
  {
   "cell_type": "code",
   "execution_count": 18,
   "id": "6028a8eb-f80f-439b-8edb-95424456918b",
   "metadata": {},
   "outputs": [],
   "source": [
    "instance FromRow Earthquake where\n",
    "    fromRow = Earthquake <$> field <*> field <*> field <*> field <*> field"
   ]
  },
  {
   "cell_type": "code",
   "execution_count": 6,
   "id": "408c2539-49a2-4f5c-9596-2d18f14e374a",
   "metadata": {},
   "outputs": [],
   "source": [
    "conn <- open $ \"../data/usgs.db\""
   ]
  },
  {
   "cell_type": "code",
   "execution_count": 52,
   "id": "49717187-958d-403a-966b-6e3a3830cf1c",
   "metadata": {},
   "outputs": [],
   "source": [
    "earthquakes <- query conn \"SELECT * FROM earthquakes\" () :: IO [Earthquake]"
   ]
  },
  {
   "cell_type": "code",
   "execution_count": 26,
   "id": "fd1bc7c4-92b1-4f39-ab69-66efe3e1f7c4",
   "metadata": {},
   "outputs": [
    {
     "data": {
      "text/plain": [
       "[Earthquake {timestamp = \"2024-07-07T10:35:25.753Z\", latitude = 59.1492, longitude = -152.5177, depth = 61.5, mag = 2.0},Earthquake {timestamp = \"2024-07-07T10:32:23.590Z\", latitude = 19.370167, longitude = -155.20816, depth = 2.05, mag = 1.9},Earthquake {timestamp = \"2024-07-07T10:28:29.680Z\", latitude = 35.865166, longitude = -117.686, depth = 9.33, mag = 0.91},Earthquake {timestamp = \"2024-07-07T10:28:11.510Z\", latitude = 38.781666, longitude = -122.742836, depth = 0.91, mag = 0.74},Earthquake {timestamp = \"2024-07-07T10:10:06.720Z\", latitude = 19.3745, longitude = -155.20833, depth = 1.63, mag = 2.49}]"
      ]
     },
     "metadata": {},
     "output_type": "display_data"
    }
   ],
   "source": [
    "earthquakes"
   ]
  },
  {
   "cell_type": "code",
   "execution_count": 22,
   "id": "a88d8af8-a721-4e8f-9baf-587d9cd89859",
   "metadata": {},
   "outputs": [],
   "source": [
    "readTime = map timestamp"
   ]
  },
  {
   "cell_type": "code",
   "execution_count": 53,
   "id": "7e052250-e62d-44ba-ae2f-4961acd0b428",
   "metadata": {},
   "outputs": [],
   "source": [
    "timestamps = readTime earthquakes"
   ]
  },
  {
   "cell_type": "code",
   "execution_count": 28,
   "id": "bb106c72-c1b3-4a2d-b9b8-02bcae2ad334",
   "metadata": {},
   "outputs": [
    {
     "data": {
      "text/plain": [
       "\"2024-07-07T10:35:25.753Z\""
      ]
     },
     "metadata": {},
     "output_type": "display_data"
    }
   ],
   "source": [
    "head timestamps"
   ]
  },
  {
   "cell_type": "code",
   "execution_count": 31,
   "id": "262b4cda-822a-47a4-b79b-48576e0fc802",
   "metadata": {},
   "outputs": [
    {
     "data": {
      "text/plain": [
       "T07"
      ]
     },
     "metadata": {},
     "output_type": "display_data"
    }
   ],
   "source": [
    "printf \"T%02d\" 7"
   ]
  },
  {
   "cell_type": "code",
   "execution_count": 54,
   "id": "d4586b6a-0eaa-4a8d-9799-011ea0ae5792",
   "metadata": {},
   "outputs": [],
   "source": [
    "countAtHour :: Int -> Int\n",
    "countAtHour hour = length $ filter (=~ (printf \"T%02d\" hour :: String)) $ map show timestamps"
   ]
  },
  {
   "cell_type": "code",
   "execution_count": 57,
   "id": "941988af-901f-4cc7-9027-577034941622",
   "metadata": {},
   "outputs": [
    {
     "data": {
      "text/plain": [
       "409"
      ]
     },
     "metadata": {},
     "output_type": "display_data"
    }
   ],
   "source": [
    "countAtHour 14"
   ]
  },
  {
   "cell_type": "code",
   "execution_count": 61,
   "id": "d5d80582-5396-44f2-80e9-79594233932c",
   "metadata": {},
   "outputs": [
    {
     "data": {
      "text/plain": [
       "[411,412,400,438,421,392,404,384,406,429,420,385,436,395,409,408,459,378,409,465,462,374,400,442]"
      ]
     },
     "metadata": {},
     "output_type": "display_data"
    }
   ],
   "source": [
    "map countAtHour [0..23]"
   ]
  }
 ],
 "metadata": {
  "kernelspec": {
   "display_name": "Haskell",
   "language": "haskell",
   "name": "haskell"
  },
  "language_info": {
   "codemirror_mode": "ihaskell",
   "file_extension": ".hs",
   "mimetype": "text/x-haskell",
   "name": "haskell",
   "pygments_lexer": "Haskell",
   "version": "9.4.5"
  }
 },
 "nbformat": 4,
 "nbformat_minor": 5
}
