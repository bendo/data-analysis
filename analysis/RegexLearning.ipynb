{
 "cells": [
  {
   "cell_type": "code",
   "execution_count": 1,
   "id": "279a8713-36f9-4c84-851f-2521ca26df57",
   "metadata": {},
   "outputs": [
    {
     "data": {
      "text/plain": [
       "\u001b[0mCabal file warning in /opt/IHaskell/ihaskell-display/ihaskell-aeson/ihaskell-aeson.cabal@46:28: Packages with 'cabal-version: 1.12' or later should specify a specific version of the Cabal spec of the form 'cabal-version: x.y'. Use 'cabal-version: 1.16'.\u001b[0m\n",
       "\u001b[0mCabal file warning in /opt/IHaskell/ihaskell-display/ihaskell-blaze/ihaskell-blaze.cabal@49:28: Packages with 'cabal-version: 1.12' or later should specify a specific version of the Cabal spec of the form 'cabal-version: x.y'. Use 'cabal-version: 1.16'.\u001b[0m\n",
       "\u001b[0mCabal file warning in /opt/IHaskell/ihaskell-display/ihaskell-charts/ihaskell-charts.cabal@46:28: Packages with 'cabal-version: 1.12' or later should specify a specific version of the Cabal spec of the form 'cabal-version: x.y'. Use 'cabal-version: 1.16'.\u001b[0m\n",
       "\u001b[0mCabal file warning in /opt/IHaskell/ihaskell-display/ihaskell-diagrams/ihaskell-diagrams.cabal@46:28: Packages with 'cabal-version: 1.12' or later should specify a specific version of the Cabal spec of the form 'cabal-version: x.y'. Use 'cabal-version: 1.16'.\u001b[0m\n",
       "\u001b[0mCabal file warning in /opt/IHaskell/ihaskell-display/ihaskell-gnuplot/ihaskell-gnuplot.cabal@47:28: Packages with 'cabal-version: 1.12' or later should specify a specific version of the Cabal spec of the form 'cabal-version: x.y'. Use 'cabal-version: 1.16'.\u001b[0m\n",
       "\u001b[0mCabal file warning in /opt/IHaskell/ihaskell-display/ihaskell-graphviz/ihaskell-graphviz.cabal@48:28: Packages with 'cabal-version: 1.12' or later should specify a specific version of the Cabal spec of the form 'cabal-version: x.y'. Use 'cabal-version: 1.16'.\u001b[0m\n",
       "\u001b[0mCabal file warning in /opt/IHaskell/ihaskell-display/ihaskell-hatex/ihaskell-hatex.cabal@12:28: Packages with 'cabal-version: 1.12' or later should specify a specific version of the Cabal spec of the form 'cabal-version: x.y'. Use 'cabal-version: 1.16'.\u001b[0m\n",
       "\u001b[0mCabal file warning in /opt/IHaskell/ihaskell-display/ihaskell-juicypixels/ihaskell-juicypixels.cabal@52:28: Packages with 'cabal-version: 1.12' or later should specify a specific version of the Cabal spec of the form 'cabal-version: x.y'. Use 'cabal-version: 1.16'.\u001b[0m\n",
       "\u001b[0mCabal file warning in /opt/IHaskell/ihaskell-display/ihaskell-magic/ihaskell-magic.cabal@49:28: Packages with 'cabal-version: 1.12' or later should specify a specific version of the Cabal spec of the form 'cabal-version: x.y'. Use 'cabal-version: 1.16'.\u001b[0m\n",
       "\u001b[0mCabal file warning in /opt/IHaskell/ihaskell-display/ihaskell-plot/ihaskell-plot.cabal@47:28: Packages with 'cabal-version: 1.12' or later should specify a specific version of the Cabal spec of the form 'cabal-version: x.y'. Use 'cabal-version: 1.16'.\u001b[0m"
      ]
     },
     "metadata": {},
     "output_type": "display_data"
    }
   ],
   "source": [
    ":! stack build regex-posix"
   ]
  },
  {
   "cell_type": "code",
   "execution_count": 2,
   "id": "b9b12a35-a57f-4516-bec9-389033db22e5",
   "metadata": {},
   "outputs": [],
   "source": [
    "import Text.Regex.Posix"
   ]
  },
  {
   "cell_type": "code",
   "execution_count": 3,
   "id": "8df7e030-df0d-4906-9354-fdf051860475",
   "metadata": {},
   "outputs": [],
   "source": [
    "str1 = \"one fish two fish red fish blue fish\""
   ]
  },
  {
   "cell_type": "code",
   "execution_count": 4,
   "id": "f8600821-f343-4ee4-9f62-b0c68cb26c35",
   "metadata": {},
   "outputs": [],
   "source": [
    "str2 = \"The quick brown fox jump over the lazy dog.\""
   ]
  },
  {
   "cell_type": "code",
   "execution_count": 5,
   "id": "1c6fb1b4-796c-45a6-8d8a-d188b446da62",
   "metadata": {},
   "outputs": [
    {
     "data": {
      "text/plain": [
       "True"
      ]
     },
     "metadata": {},
     "output_type": "display_data"
    }
   ],
   "source": [
    "str1 =~ \"one\" :: Bool"
   ]
  },
  {
   "cell_type": "code",
   "execution_count": 6,
   "id": "1054b3a5-9857-400a-b5c8-19e2bd736ee7",
   "metadata": {},
   "outputs": [
    {
     "data": {
      "text/plain": [
       "False"
      ]
     },
     "metadata": {},
     "output_type": "display_data"
    }
   ],
   "source": [
    "str2 =~ \"one\" :: Bool"
   ]
  },
  {
   "cell_type": "code",
   "execution_count": 7,
   "id": "4a01e779-c241-4fa2-89a4-c0cb4ad3c9e5",
   "metadata": {},
   "outputs": [
    {
     "data": {
      "text/plain": [
       "True"
      ]
     },
     "metadata": {},
     "output_type": "display_data"
    }
   ],
   "source": [
    "str1 =~ \"o.e\" :: Bool"
   ]
  },
  {
   "cell_type": "code",
   "execution_count": 8,
   "id": "7e6a64dd-4a5b-4a2d-8962-611b93c99e8d",
   "metadata": {},
   "outputs": [
    {
     "data": {
      "text/plain": [
       "True"
      ]
     },
     "metadata": {},
     "output_type": "display_data"
    }
   ],
   "source": [
    "str2 =~ \"o.e\" :: Bool"
   ]
  },
  {
   "cell_type": "code",
   "execution_count": 9,
   "id": "98c40f45-1ade-4f73-8c39-23b818e4031e",
   "metadata": {},
   "outputs": [
    {
     "data": {
      "text/plain": [
       "True"
      ]
     },
     "metadata": {},
     "output_type": "display_data"
    }
   ],
   "source": [
    "str1 =~ \"fish|fox\" :: Bool"
   ]
  },
  {
   "cell_type": "code",
   "execution_count": 10,
   "id": "e060e392-0789-4cbb-b3ba-da9a2f735309",
   "metadata": {},
   "outputs": [
    {
     "data": {
      "text/plain": [
       "True"
      ]
     },
     "metadata": {},
     "output_type": "display_data"
    }
   ],
   "source": [
    "str2 =~ \"fish|fox\" :: Bool"
   ]
  },
  {
   "cell_type": "code",
   "execution_count": 11,
   "id": "8a56a859-3b45-42b3-8476-7474fd4adf78",
   "metadata": {},
   "outputs": [
    {
     "data": {
      "text/plain": [
       "False"
      ]
     },
     "metadata": {},
     "output_type": "display_data"
    }
   ],
   "source": [
    "str1 =~ \"dog|cat\" :: Bool"
   ]
  },
  {
   "cell_type": "code",
   "execution_count": 12,
   "id": "b3a2e64d-da40-407d-bac0-c9cd79447cf2",
   "metadata": {},
   "outputs": [
    {
     "data": {
      "text/plain": [
       "True"
      ]
     },
     "metadata": {},
     "output_type": "display_data"
    }
   ],
   "source": [
    "str2 =~ \"dog|cat\" :: Bool"
   ]
  },
  {
   "cell_type": "code",
   "execution_count": 13,
   "id": "a17c915c-7fdb-46d7-98c4-a81c3091b6c7",
   "metadata": {},
   "outputs": [
    {
     "data": {
      "text/plain": [
       "True"
      ]
     },
     "metadata": {},
     "output_type": "display_data"
    }
   ],
   "source": [
    "\"13-07-1969\" =~ \"..-..-(19|20)..\" :: Bool"
   ]
  },
  {
   "cell_type": "code",
   "execution_count": 16,
   "id": "35f15b20-4af3-4eb8-bbd8-0d45ea620862",
   "metadata": {},
   "outputs": [
    {
     "data": {
      "text/plain": [
       "False"
      ]
     },
     "metadata": {},
     "output_type": "display_data"
    }
   ],
   "source": [
    "\"13-07-18AB\" =~ \"..-..-(19|20)..\" :: Bool"
   ]
  },
  {
   "cell_type": "markdown",
   "id": "9e50ace1-b078-4071-ac16-2767d8974e78",
   "metadata": {},
   "source": [
    "Spellings:\n",
    "- color\n",
    "- colour\n",
    "- Wrong: colour"
   ]
  },
  {
   "cell_type": "code",
   "execution_count": 17,
   "id": "5de9be6a-8f46-4999-9ccc-a22a6d57f4e7",
   "metadata": {},
   "outputs": [
    {
     "data": {
      "text/plain": [
       "True"
      ]
     },
     "metadata": {},
     "output_type": "display_data"
    }
   ],
   "source": [
    "\"color\" =~ \"colou?r\" :: Bool"
   ]
  },
  {
   "cell_type": "code",
   "execution_count": 18,
   "id": "86a0071d-ec48-407e-9e55-5d30c1902269",
   "metadata": {},
   "outputs": [
    {
     "data": {
      "text/plain": [
       "True"
      ]
     },
     "metadata": {},
     "output_type": "display_data"
    }
   ],
   "source": [
    "\"colour\" =~ \"colou?r\" :: Bool"
   ]
  },
  {
   "cell_type": "code",
   "execution_count": 19,
   "id": "814a42b5-cc93-4d83-8cc5-7d219b5aa73a",
   "metadata": {},
   "outputs": [
    {
     "data": {
      "text/plain": [
       "False"
      ]
     },
     "metadata": {},
     "output_type": "display_data"
    }
   ],
   "source": [
    "\"coluor\" =~ \"colou?r\" :: Bool"
   ]
  },
  {
   "cell_type": "code",
   "execution_count": 20,
   "id": "210b821d-d5ae-4ec6-adba-67a38e5e789f",
   "metadata": {},
   "outputs": [
    {
     "data": {
      "text/plain": [
       "True"
      ]
     },
     "metadata": {},
     "output_type": "display_data"
    }
   ],
   "source": [
    "\"1122\" =~ \"1*2*\" :: Bool"
   ]
  },
  {
   "cell_type": "code",
   "execution_count": 21,
   "id": "d8afc880-ff1d-4d19-9bde-0bd9616f770d",
   "metadata": {},
   "outputs": [
    {
     "data": {
      "text/plain": [
       "True"
      ]
     },
     "metadata": {},
     "output_type": "display_data"
    }
   ],
   "source": [
    "\"\" =~ \"1*2*\" :: Bool"
   ]
  },
  {
   "cell_type": "code",
   "execution_count": 22,
   "id": "b7e5ffb9-ea00-4aa9-b695-a084e9d32bce",
   "metadata": {},
   "outputs": [
    {
     "data": {
      "text/plain": [
       "True"
      ]
     },
     "metadata": {},
     "output_type": "display_data"
    }
   ],
   "source": [
    "\"111\" =~ \"1*2*\" :: Bool"
   ]
  },
  {
   "cell_type": "code",
   "execution_count": 23,
   "id": "c50e4beb-086c-401d-bbce-bc101e218e5b",
   "metadata": {},
   "outputs": [
    {
     "data": {
      "text/plain": [
       "True"
      ]
     },
     "metadata": {},
     "output_type": "display_data"
    }
   ],
   "source": [
    "\"ABC\" =~ \"1*2*\" :: Bool"
   ]
  },
  {
   "cell_type": "code",
   "execution_count": 24,
   "id": "9bf8f401-b925-4867-be42-d1c5a0137305",
   "metadata": {},
   "outputs": [
    {
     "data": {
      "text/plain": [
       "True"
      ]
     },
     "metadata": {},
     "output_type": "display_data"
    }
   ],
   "source": [
    "\"1122\" =~ \"1+2+\" :: Bool"
   ]
  },
  {
   "cell_type": "code",
   "execution_count": 25,
   "id": "79d07005-96ed-4bb1-8f12-c3e7a1d77344",
   "metadata": {},
   "outputs": [
    {
     "data": {
      "text/plain": [
       "False"
      ]
     },
     "metadata": {},
     "output_type": "display_data"
    }
   ],
   "source": [
    "\"11\" =~ \"1+2+\" :: Bool"
   ]
  },
  {
   "cell_type": "code",
   "execution_count": 26,
   "id": "044bb11c-3565-4d94-b205-8656d9ef79a6",
   "metadata": {},
   "outputs": [
    {
     "data": {
      "text/plain": [
       "True"
      ]
     },
     "metadata": {},
     "output_type": "display_data"
    }
   ],
   "source": [
    "\"12\" =~ \"1+2+\" :: Bool"
   ]
  },
  {
   "cell_type": "code",
   "execution_count": 27,
   "id": "f3be03f9-13cf-43ba-a475-a316ebf339c1",
   "metadata": {},
   "outputs": [
    {
     "data": {
      "text/plain": [
       "False"
      ]
     },
     "metadata": {},
     "output_type": "display_data"
    }
   ],
   "source": [
    "\"123\" =~ \"12{3,5}3\" :: Bool"
   ]
  },
  {
   "cell_type": "code",
   "execution_count": 28,
   "id": "adfd1c5a-0f78-416f-b75d-7b6f4d7bc948",
   "metadata": {},
   "outputs": [
    {
     "data": {
      "text/plain": [
       "False"
      ]
     },
     "metadata": {},
     "output_type": "display_data"
    }
   ],
   "source": [
    "\"123\" =~ \"12{3,5}3\" :: Bool"
   ]
  },
  {
   "cell_type": "code",
   "execution_count": 29,
   "id": "10f2cabc-0f46-4786-b5fe-00d0eb9d315c",
   "metadata": {},
   "outputs": [
    {
     "data": {
      "text/plain": [
       "True"
      ]
     },
     "metadata": {},
     "output_type": "display_data"
    }
   ],
   "source": [
    "\"12223\" =~ \"12{3,5}3\" :: Bool"
   ]
  },
  {
   "cell_type": "code",
   "execution_count": 30,
   "id": "20e063e8-d1fc-4cc3-9099-c6d51bd17fd7",
   "metadata": {},
   "outputs": [
    {
     "data": {
      "text/plain": [
       "False"
      ]
     },
     "metadata": {},
     "output_type": "display_data"
    }
   ],
   "source": [
    "\"12222223\" =~ \"12{3,5}3\" :: Bool"
   ]
  },
  {
   "cell_type": "code",
   "execution_count": 31,
   "id": "dff2f57b-0f36-4e0b-acd9-9ba1d1cd64eb",
   "metadata": {},
   "outputs": [
    {
     "data": {
      "text/plain": [
       "True"
      ]
     },
     "metadata": {},
     "output_type": "display_data"
    }
   ],
   "source": [
    "\"dog\" =~ \"[aeiou]\" :: Bool"
   ]
  },
  {
   "cell_type": "code",
   "execution_count": 32,
   "id": "db9c7d1e-67ff-43f9-a58b-c27a9af3423b",
   "metadata": {},
   "outputs": [
    {
     "data": {
      "text/plain": [
       "False"
      ]
     },
     "metadata": {},
     "output_type": "display_data"
    }
   ],
   "source": [
    "\"why\" =~ \"[aeiou]\" :: Bool"
   ]
  },
  {
   "cell_type": "code",
   "execution_count": 33,
   "id": "9d04e7aa-24ee-46f1-b0b7-373d792f0f7f",
   "metadata": {},
   "outputs": [
    {
     "data": {
      "text/plain": [
       "True"
      ]
     },
     "metadata": {},
     "output_type": "display_data"
    }
   ],
   "source": [
    "\"123\" =~ \"[1234567890]\" :: Bool"
   ]
  },
  {
   "cell_type": "code",
   "execution_count": 34,
   "id": "0cc2faeb-54c9-4d91-aebd-ed3b3213e4c0",
   "metadata": {},
   "outputs": [
    {
     "data": {
      "text/plain": [
       "False"
      ]
     },
     "metadata": {},
     "output_type": "display_data"
    }
   ],
   "source": [
    "\"dog\" =~ \"[1234567890]\" :: Bool"
   ]
  },
  {
   "cell_type": "code",
   "execution_count": 35,
   "id": "692f748e-3a92-43f7-9fc2-3766b4af2409",
   "metadata": {},
   "outputs": [
    {
     "data": {
      "text/plain": [
       "True"
      ]
     },
     "metadata": {},
     "output_type": "display_data"
    }
   ],
   "source": [
    "\"123\" =~ \"[0-9]\" :: Bool"
   ]
  },
  {
   "cell_type": "code",
   "execution_count": 36,
   "id": "02973cbf-dce4-4725-9390-a58469ef977d",
   "metadata": {},
   "outputs": [
    {
     "data": {
      "text/plain": [
       "True"
      ]
     },
     "metadata": {},
     "output_type": "display_data"
    }
   ],
   "source": [
    "\"dog\" =~ \"[a-z]\" :: Bool"
   ]
  },
  {
   "cell_type": "code",
   "execution_count": 37,
   "id": "53413f40-5dbe-45eb-8a9f-75d6b7846ea4",
   "metadata": {},
   "outputs": [
    {
     "data": {
      "text/plain": [
       "False"
      ]
     },
     "metadata": {},
     "output_type": "display_data"
    }
   ],
   "source": [
    "\"dog\" =~ \"[A-Z]\" :: Bool"
   ]
  },
  {
   "cell_type": "code",
   "execution_count": 38,
   "id": "97ed393e-68d1-4fda-b3d4-3a51f0c37853",
   "metadata": {},
   "outputs": [
    {
     "data": {
      "text/plain": [
       "True"
      ]
     },
     "metadata": {},
     "output_type": "display_data"
    }
   ],
   "source": [
    "\"DoG\" =~ \"[A-Za-z]\" :: Bool"
   ]
  },
  {
   "cell_type": "code",
   "execution_count": 39,
   "id": "2ec0be17-2368-44b6-aa2e-881615e53341",
   "metadata": {},
   "outputs": [
    {
     "data": {
      "text/plain": [
       "True"
      ]
     },
     "metadata": {},
     "output_type": "display_data"
    }
   ],
   "source": [
    "\"why\" =~ \"[^aeiou]\" :: Bool"
   ]
  },
  {
   "cell_type": "code",
   "execution_count": 40,
   "id": "196997d6-429c-4fdc-8995-8f2e6407b103",
   "metadata": {},
   "outputs": [
    {
     "data": {
      "text/plain": [
       "True"
      ]
     },
     "metadata": {},
     "output_type": "display_data"
    }
   ],
   "source": [
    "\"Ke$ha\" =~ \"[^A-Za-z]\" :: Bool"
   ]
  },
  {
   "cell_type": "code",
   "execution_count": 41,
   "id": "5c38e24e-f339-44a6-a152-34de7f345db3",
   "metadata": {},
   "outputs": [
    {
     "data": {
      "text/plain": [
       "True"
      ]
     },
     "metadata": {},
     "output_type": "display_data"
    }
   ],
   "source": [
    "\"13-07-1969\" =~ \"[0-3][0-9]-[0-1][0-9]-(19|20)[0-9][0-9]\" :: Bool"
   ]
  },
  {
   "cell_type": "code",
   "execution_count": 42,
   "id": "12f88345-e896-4ca1-8f70-df9e307dd2f5",
   "metadata": {},
   "outputs": [
    {
     "data": {
      "text/plain": [
       "False"
      ]
     },
     "metadata": {},
     "output_type": "display_data"
    }
   ],
   "source": [
    "\"99-40-1969\" =~ \"[0-3][0-9]-[0-1][0-9]-(19|20)[0-9][0-9]\" :: Bool"
   ]
  },
  {
   "cell_type": "code",
   "execution_count": 45,
   "id": "6ee48d4d-3919-45f0-9420-0af3bba32234",
   "metadata": {},
   "outputs": [
    {
     "data": {
      "text/plain": [
       "False"
      ]
     },
     "metadata": {},
     "output_type": "display_data"
    }
   ],
   "source": [
    "\"99-40-1969\" =~ \"(0[1-9]|[12][0-9]|3[01])-(0[1-9]|1[012])-(19|20)[0-9][0-9]\" :: Bool"
   ]
  },
  {
   "cell_type": "code",
   "execution_count": 46,
   "id": "60023e92-6708-4732-9df3-e4560bd5151a",
   "metadata": {},
   "outputs": [
    {
     "data": {
      "text/plain": [
       "True"
      ]
     },
     "metadata": {},
     "output_type": "display_data"
    }
   ],
   "source": [
    "\"13-07-1969\" =~ \"(0[1-9]|[12][0-9]|3[01])-(0[1-9]|1[012])-(19|20)[0-9][0-9]\" :: Bool"
   ]
  }
 ],
 "metadata": {
  "kernelspec": {
   "display_name": "Haskell",
   "language": "haskell",
   "name": "haskell"
  },
  "language_info": {
   "codemirror_mode": "ihaskell",
   "file_extension": ".hs",
   "mimetype": "text/x-haskell",
   "name": "haskell",
   "pygments_lexer": "Haskell",
   "version": "9.4.5"
  }
 },
 "nbformat": 4,
 "nbformat_minor": 5
}
